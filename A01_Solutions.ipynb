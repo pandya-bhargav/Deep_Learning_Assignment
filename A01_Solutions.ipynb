{
 "cells": [
  {
   "cell_type": "markdown",
   "metadata": {
    "id": "uabbO2ygDbxj"
   },
   "source": [
    "#Loading Required Libraries"
   ]
  },
  {
   "cell_type": "code",
   "execution_count": 6,
   "metadata": {
    "id": "6CXUo6yDIYC7"
   },
   "outputs": [],
   "source": [
    "import pandas as pd\n",
    "import numpy as np\n",
    "import matplotlib.pyplot as plt\n",
    "import seaborn as sns\n",
    "from sklearn.preprocessing import StandardScaler\n",
    "from sklearn.preprocessing import PolynomialFeatures\n",
    "from sklearn.preprocessing import QuantileTransformer\n",
    "from sklearn.svm import SVC\n",
    "from sklearn.model_selection import train_test_split\n",
    "from sklearn.linear_model import LogisticRegression\n",
    "from sklearn.linear_model import LinearRegression\n",
    "from sklearn.metrics import accuracy_score, precision_score, recall_score, f1_score, confusion_matrix\n",
    "from sklearn.metrics import mean_squared_error,mean_absolute_error,r2_score\n",
    "import warnings\n",
    "warnings.filterwarnings(action = \"ignore\")"
   ]
  },
  {
   "cell_type": "markdown",
   "metadata": {
    "id": "5QJVw9E3OF6z"
   },
   "source": [
    "# **1. User_data**"
   ]
  },
  {
   "cell_type": "markdown",
   "metadata": {
    "id": "n-MB6LUOOzWN"
   },
   "source": [
    "### **1. Load Data and check if the data has missing value**"
   ]
  },
  {
   "cell_type": "code",
   "execution_count": 7,
   "metadata": {
    "id": "r-IIEGvqQTaa"
   },
   "outputs": [],
   "source": [
    "User_df = pd.read_csv('A01_User_Data.csv')"
   ]
  },
  {
   "cell_type": "code",
   "execution_count": 8,
   "metadata": {
    "colab": {
     "base_uri": "https://localhost:8080/"
    },
    "id": "U4nk8R9XQXMF",
    "outputId": "88188e64-2b60-489b-e394-e6bca8543a06"
   },
   "outputs": [
    {
     "name": "stdout",
     "output_type": "stream",
     "text": [
      "Shape of User_Data :  (400, 5)\n"
     ]
    }
   ],
   "source": [
    "print('Shape of User_Data : ', User_df.shape)"
   ]
  },
  {
   "cell_type": "code",
   "execution_count": 9,
   "metadata": {
    "colab": {
     "base_uri": "https://localhost:8080/"
    },
    "id": "vDuqKoUyEyMK",
    "outputId": "68ba8c14-89f6-47a2-8b01-bc2901211449"
   },
   "outputs": [
    {
     "name": "stdout",
     "output_type": "stream",
     "text": [
      "Columns of User_Data : Index(['User ID', 'Gender', 'Age', 'EstimatedSalary', 'Purchased'], dtype='object')\n"
     ]
    }
   ],
   "source": [
    "print('Columns of User_Data :', User_df.columns)"
   ]
  },
  {
   "cell_type": "code",
   "execution_count": 10,
   "metadata": {
    "colab": {
     "base_uri": "https://localhost:8080/"
    },
    "id": "PJchNAlaRCMC",
    "outputId": "17ea2b35-5f44-4ec7-ed68-cedf087bdc03"
   },
   "outputs": [
    {
     "name": "stdout",
     "output_type": "stream",
     "text": [
      "<class 'pandas.core.frame.DataFrame'>\n",
      "RangeIndex: 400 entries, 0 to 399\n",
      "Data columns (total 5 columns):\n",
      " #   Column           Non-Null Count  Dtype \n",
      "---  ------           --------------  ----- \n",
      " 0   User ID          400 non-null    int64 \n",
      " 1   Gender           400 non-null    object\n",
      " 2   Age              400 non-null    int64 \n",
      " 3   EstimatedSalary  400 non-null    int64 \n",
      " 4   Purchased        400 non-null    int64 \n",
      "dtypes: int64(4), object(1)\n",
      "memory usage: 15.8+ KB\n"
     ]
    }
   ],
   "source": [
    "# Basic information of data\n",
    "User_df.info()"
   ]
  },
  {
   "cell_type": "code",
   "execution_count": 11,
   "metadata": {
    "colab": {
     "base_uri": "https://localhost:8080/",
     "height": 206
    },
    "id": "mh5tGLTHQcrL",
    "outputId": "18d5eaa6-1057-410a-abe1-caf345a634a5"
   },
   "outputs": [
    {
     "data": {
      "text/html": [
       "<div>\n",
       "<style scoped>\n",
       "    .dataframe tbody tr th:only-of-type {\n",
       "        vertical-align: middle;\n",
       "    }\n",
       "\n",
       "    .dataframe tbody tr th {\n",
       "        vertical-align: top;\n",
       "    }\n",
       "\n",
       "    .dataframe thead th {\n",
       "        text-align: right;\n",
       "    }\n",
       "</style>\n",
       "<table border=\"1\" class=\"dataframe\">\n",
       "  <thead>\n",
       "    <tr style=\"text-align: right;\">\n",
       "      <th></th>\n",
       "      <th>User ID</th>\n",
       "      <th>Gender</th>\n",
       "      <th>Age</th>\n",
       "      <th>EstimatedSalary</th>\n",
       "      <th>Purchased</th>\n",
       "    </tr>\n",
       "  </thead>\n",
       "  <tbody>\n",
       "    <tr>\n",
       "      <th>0</th>\n",
       "      <td>15624510</td>\n",
       "      <td>Male</td>\n",
       "      <td>19</td>\n",
       "      <td>19000</td>\n",
       "      <td>0</td>\n",
       "    </tr>\n",
       "    <tr>\n",
       "      <th>1</th>\n",
       "      <td>15810944</td>\n",
       "      <td>Male</td>\n",
       "      <td>35</td>\n",
       "      <td>20000</td>\n",
       "      <td>0</td>\n",
       "    </tr>\n",
       "    <tr>\n",
       "      <th>2</th>\n",
       "      <td>15668575</td>\n",
       "      <td>Female</td>\n",
       "      <td>26</td>\n",
       "      <td>43000</td>\n",
       "      <td>0</td>\n",
       "    </tr>\n",
       "    <tr>\n",
       "      <th>3</th>\n",
       "      <td>15603246</td>\n",
       "      <td>Female</td>\n",
       "      <td>27</td>\n",
       "      <td>57000</td>\n",
       "      <td>0</td>\n",
       "    </tr>\n",
       "    <tr>\n",
       "      <th>4</th>\n",
       "      <td>15804002</td>\n",
       "      <td>Male</td>\n",
       "      <td>19</td>\n",
       "      <td>76000</td>\n",
       "      <td>0</td>\n",
       "    </tr>\n",
       "  </tbody>\n",
       "</table>\n",
       "</div>"
      ],
      "text/plain": [
       "    User ID  Gender  Age  EstimatedSalary  Purchased\n",
       "0  15624510    Male   19            19000          0\n",
       "1  15810944    Male   35            20000          0\n",
       "2  15668575  Female   26            43000          0\n",
       "3  15603246  Female   27            57000          0\n",
       "4  15804002    Male   19            76000          0"
      ]
     },
     "execution_count": 11,
     "metadata": {},
     "output_type": "execute_result"
    }
   ],
   "source": [
    "# Preview of data\n",
    "User_df.head()"
   ]
  },
  {
   "cell_type": "code",
   "execution_count": 12,
   "metadata": {
    "colab": {
     "base_uri": "https://localhost:8080/"
    },
    "id": "DmAR8GPVRIwV",
    "outputId": "7db51c28-4a2d-4d93-bb03-e52e2a946fa4"
   },
   "outputs": [
    {
     "data": {
      "text/plain": [
       "User ID            0\n",
       "Gender             0\n",
       "Age                0\n",
       "EstimatedSalary    0\n",
       "Purchased          0\n",
       "dtype: int64"
      ]
     },
     "execution_count": 12,
     "metadata": {},
     "output_type": "execute_result"
    }
   ],
   "source": [
    "# Check for missing values\n",
    "User_df.isna().sum()"
   ]
  },
  {
   "cell_type": "markdown",
   "metadata": {
    "id": "vtlNDdyRGpAS"
   },
   "source": [
    "In User_Data, no missing values so no need to fill"
   ]
  },
  {
   "cell_type": "markdown",
   "metadata": {
    "id": "BPu8-MxaPKrj"
   },
   "source": [
    "### **2. Identify which features need to be encoded and encode them**"
   ]
  },
  {
   "cell_type": "code",
   "execution_count": 13,
   "metadata": {
    "id": "VbJk9ZZSWrog"
   },
   "outputs": [],
   "source": [
    "# Make a copy of main dataframe\n",
    "User_df1 = User_df.copy()"
   ]
  },
  {
   "cell_type": "code",
   "execution_count": 14,
   "metadata": {
    "colab": {
     "base_uri": "https://localhost:8080/"
    },
    "id": "iV3avJcEKbeU",
    "outputId": "14ef4be2-8277-4343-e56f-168b2f45588e"
   },
   "outputs": [
    {
     "name": "stdout",
     "output_type": "stream",
     "text": [
      "<class 'pandas.core.frame.DataFrame'>\n",
      "RangeIndex: 400 entries, 0 to 399\n",
      "Data columns (total 5 columns):\n",
      " #   Column           Non-Null Count  Dtype \n",
      "---  ------           --------------  ----- \n",
      " 0   User ID          400 non-null    int64 \n",
      " 1   Gender           400 non-null    object\n",
      " 2   Age              400 non-null    int64 \n",
      " 3   EstimatedSalary  400 non-null    int64 \n",
      " 4   Purchased        400 non-null    int64 \n",
      "dtypes: int64(4), object(1)\n",
      "memory usage: 15.8+ KB\n"
     ]
    }
   ],
   "source": [
    "User_df1.info()"
   ]
  },
  {
   "cell_type": "markdown",
   "metadata": {
    "id": "at3U6S2GJxlI"
   },
   "source": [
    "Features such as \"User ID\" is meaningless when we fit them to model. So we drop it"
   ]
  },
  {
   "cell_type": "code",
   "execution_count": 15,
   "metadata": {
    "id": "-7ztbKgTYHL5"
   },
   "outputs": [],
   "source": [
    "User_df1.drop('User ID', axis=1, inplace=True)"
   ]
  },
  {
   "cell_type": "markdown",
   "metadata": {
    "id": "NLPgQMswK9ap"
   },
   "source": [
    "Converting Categorical Variable(Gender) into their corresponding form using one-hot encoding"
   ]
  },
  {
   "cell_type": "code",
   "execution_count": 16,
   "metadata": {
    "colab": {
     "base_uri": "https://localhost:8080/",
     "height": 206
    },
    "id": "D4m0fOF9apqB",
    "outputId": "348d91be-65f3-4e3f-9d56-be4eb50cf481"
   },
   "outputs": [
    {
     "data": {
      "text/html": [
       "<div>\n",
       "<style scoped>\n",
       "    .dataframe tbody tr th:only-of-type {\n",
       "        vertical-align: middle;\n",
       "    }\n",
       "\n",
       "    .dataframe tbody tr th {\n",
       "        vertical-align: top;\n",
       "    }\n",
       "\n",
       "    .dataframe thead th {\n",
       "        text-align: right;\n",
       "    }\n",
       "</style>\n",
       "<table border=\"1\" class=\"dataframe\">\n",
       "  <thead>\n",
       "    <tr style=\"text-align: right;\">\n",
       "      <th></th>\n",
       "      <th>Age</th>\n",
       "      <th>EstimatedSalary</th>\n",
       "      <th>Purchased</th>\n",
       "      <th>Gender_Female</th>\n",
       "      <th>Gender_Male</th>\n",
       "    </tr>\n",
       "  </thead>\n",
       "  <tbody>\n",
       "    <tr>\n",
       "      <th>0</th>\n",
       "      <td>19</td>\n",
       "      <td>19000</td>\n",
       "      <td>0</td>\n",
       "      <td>0</td>\n",
       "      <td>1</td>\n",
       "    </tr>\n",
       "    <tr>\n",
       "      <th>1</th>\n",
       "      <td>35</td>\n",
       "      <td>20000</td>\n",
       "      <td>0</td>\n",
       "      <td>0</td>\n",
       "      <td>1</td>\n",
       "    </tr>\n",
       "    <tr>\n",
       "      <th>2</th>\n",
       "      <td>26</td>\n",
       "      <td>43000</td>\n",
       "      <td>0</td>\n",
       "      <td>1</td>\n",
       "      <td>0</td>\n",
       "    </tr>\n",
       "    <tr>\n",
       "      <th>3</th>\n",
       "      <td>27</td>\n",
       "      <td>57000</td>\n",
       "      <td>0</td>\n",
       "      <td>1</td>\n",
       "      <td>0</td>\n",
       "    </tr>\n",
       "    <tr>\n",
       "      <th>4</th>\n",
       "      <td>19</td>\n",
       "      <td>76000</td>\n",
       "      <td>0</td>\n",
       "      <td>0</td>\n",
       "      <td>1</td>\n",
       "    </tr>\n",
       "  </tbody>\n",
       "</table>\n",
       "</div>"
      ],
      "text/plain": [
       "   Age  EstimatedSalary  Purchased  Gender_Female  Gender_Male\n",
       "0   19            19000          0              0            1\n",
       "1   35            20000          0              0            1\n",
       "2   26            43000          0              1            0\n",
       "3   27            57000          0              1            0\n",
       "4   19            76000          0              0            1"
      ]
     },
     "execution_count": 16,
     "metadata": {},
     "output_type": "execute_result"
    }
   ],
   "source": [
    "User_df2 = pd.get_dummies(User_df1, columns=['Gender'], prefix=['Gender'])\n",
    "User_df2.head()"
   ]
  },
  {
   "cell_type": "markdown",
   "metadata": {
    "id": "C-BQcZYjPbjW"
   },
   "source": [
    "### **3. Identify which features to normalize and normalize them**"
   ]
  },
  {
   "cell_type": "code",
   "execution_count": 17,
   "metadata": {
    "colab": {
     "base_uri": "https://localhost:8080/",
     "height": 407
    },
    "id": "9_f8CSRP3pgr",
    "outputId": "26ff8c87-375c-4b16-dbd6-9a3b8ed116d5"
   },
   "outputs": [
    {
     "data": {
      "image/png": "[encoded data removed]",
      "text/plain": [
       "<Figure size 360x288 with 2 Axes>"
      ]
     },
     "metadata": {
      "needs_background": "light"
     },
     "output_type": "display_data"
    }
   ],
   "source": [
    "features = ['Age','EstimatedSalary']\n",
    "row = len(features)//2 + len(features)%2\n",
    "col = 2\n",
    "fig, axes = plt.subplots(row, col, figsize=(5, 4))\n",
    "axes = axes.flatten()\n",
    "for i, feature in enumerate(features):\n",
    "    ax = axes[i]\n",
    "    sns.distplot(User_df2[feature], ax=ax)\n",
    "    ax.set_title(f\"Distribution of {feature}\")\n",
    "    ax.set_xlabel(\"Value\")\n",
    "    ax.set_ylabel(\"Density\")\n",
    "\n",
    "plt.tight_layout()\n",
    "plt.show()"
   ]
  },
  {
   "cell_type": "markdown",
   "metadata": {
    "id": "AfmLIhvcWffw"
   },
   "source": [
    "Here we can see that 'Age' and 'EstimatedSalary' seem like normal. So, we convert it into Standard normal."
   ]
  },
  {
   "cell_type": "code",
   "execution_count": 18,
   "metadata": {
    "id": "U7qSpCOOXFRb"
   },
   "outputs": [],
   "source": [
    "sc = StandardScaler()\n",
    "User_df2[\"Age\"] = sc.fit_transform(User_df2[\"Age\"].values.reshape(-1,1))"
   ]
  },
  {
   "cell_type": "code",
   "execution_count": 19,
   "metadata": {
    "id": "unp5GBnrXYFq"
   },
   "outputs": [],
   "source": [
    "User_df2[\"EstimatedSalary\"] = sc.fit_transform(User_df2[\"EstimatedSalary\"].values.reshape(-1,1))"
   ]
  },
  {
   "cell_type": "markdown",
   "metadata": {
    "id": "O51Qp7btPnUc"
   },
   "source": [
    "### **4. Identify whether the given task is of classification of regression**"
   ]
  },
  {
   "cell_type": "code",
   "execution_count": 20,
   "metadata": {
    "colab": {
     "base_uri": "https://localhost:8080/"
    },
    "id": "hEWRRSdGM-Dp",
    "outputId": "0af2b666-3861-4245-a090-41a8ae62d31c"
   },
   "outputs": [
    {
     "data": {
      "text/plain": [
       "Index(['Age', 'EstimatedSalary', 'Purchased', 'Gender_Female', 'Gender_Male'], dtype='object')"
      ]
     },
     "execution_count": 20,
     "metadata": {},
     "output_type": "execute_result"
    }
   ],
   "source": [
    "User_df2.columns"
   ]
  },
  {
   "cell_type": "markdown",
   "metadata": {
    "id": "Gi6ewH4rTx3o"
   },
   "source": [
    "For this dataset our target variable is \"Purchased\" and it's binary. Hence our task is of classification."
   ]
  },
  {
   "cell_type": "code",
   "execution_count": 21,
   "metadata": {
    "colab": {
     "base_uri": "https://localhost:8080/",
     "height": 589
    },
    "id": "LkphWZ5v8bnt",
    "outputId": "491df9dc-fac4-4e94-e88a-b3fc3164952e"
   },
   "outputs": [
    {
     "data": {
      "image/png": "[encoded data removed]",
      "text/plain": [
       "<Figure size 1800x720 with 2 Axes>"
      ]
     },
     "metadata": {
      "needs_background": "light"
     },
     "output_type": "display_data"
    }
   ],
   "source": [
    "plt.figure(figsize = (25,10))\n",
    "sns.heatmap(User_df2.corr(),annot = True);"
   ]
  },
  {
   "cell_type": "markdown",
   "metadata": {
    "id": "7dUXw3rN-voD"
   },
   "source": [
    "In above heatmap, we can see that \"Age\" and \"EstimatedSalary\" are highly positive related to our target variable(Purchased)."
   ]
  },
  {
   "cell_type": "markdown",
   "metadata": {
    "id": "wMcAQDsqLGVI"
   },
   "source": [
    "So, First we use only \"Age\"."
   ]
  },
  {
   "cell_type": "code",
   "execution_count": 22,
   "metadata": {
    "id": "UPj1-kwHffuF"
   },
   "outputs": [],
   "source": [
    "X = User_df2[['Age']]\n",
    "y = User_df2[['Purchased']]"
   ]
  },
  {
   "cell_type": "markdown",
   "metadata": {
    "id": "by1pA7RTP6-F"
   },
   "source": [
    "### **5. Split the data into train set (75%) validation set (10%) and test set (15%)**"
   ]
  },
  {
   "cell_type": "code",
   "execution_count": 23,
   "metadata": {
    "id": "mRKujHicfd34"
   },
   "outputs": [],
   "source": [
    "X_train, X_temp, y_train, y_temp = train_test_split(X, y, test_size=0.25, random_state=42)\n",
    "X_val, X_test, y_val, y_test = train_test_split(X_temp, y_temp, test_size=0.6, random_state=42)"
   ]
  },
  {
   "cell_type": "markdown",
   "metadata": {
    "id": "QGcOXYhAQCGK"
   },
   "source": [
    "### **6. Fit the data into 2 models of your choice**"
   ]
  },
  {
   "cell_type": "code",
   "execution_count": 24,
   "metadata": {
    "id": "4qSTd3HKrTA7"
   },
   "outputs": [],
   "source": [
    "def evaluate_classification_model(model,model_name,X_train,y_train,X_test,y_test,X_valid,y_valid):\n",
    "\n",
    "    print(f\"Model performance for {model_name}\")\n",
    "    y_train_pred = model.predict(X_train)\n",
    "    y_valid_pred = model.predict(X_valid)\n",
    "    y_test_pred = model.predict(X_test)\n",
    "\n",
    "    #accuracy score\n",
    "    accuracy_score_train = round(accuracy_score(y_train, y_train_pred),2)\n",
    "    accuracy_score_valid = round(accuracy_score(y_valid, y_valid_pred),2)\n",
    "    accuracy_score_test = round(accuracy_score(y_test, y_test_pred),2)\n",
    "\n",
    "    #precision score\n",
    "    precision_score_train = round(precision_score(y_train,y_train_pred),2)\n",
    "    precision_score_valid = round(precision_score(y_valid,y_valid_pred),2)\n",
    "    precision_score_test = round(precision_score(y_test,y_test_pred),2)\n",
    "\n",
    "    #recallscore\n",
    "    recall_score_train = round(recall_score(y_train,y_train_pred),2)\n",
    "    recall_score_valid = round(recall_score(y_valid,y_valid_pred),2)\n",
    "    recall_score_test = round(recall_score(y_test,y_test_pred),2)\n",
    "\n",
    "    #f1 score\n",
    "    f1_score_train = round(f1_score(y_train,y_train_pred),2)\n",
    "    f1_score_valid = round(f1_score(y_valid,y_valid_pred),2)\n",
    "    f1_score_test = round(f1_score(y_test,y_test_pred),2)\n",
    "\n",
    "    print()\n",
    "    print(f'Accuracy Score Train : {accuracy_score_train}')\n",
    "    print(f'Accuracy Score Validation : {accuracy_score_valid}')\n",
    "    print(f'Accuracy Score Test : {accuracy_score_test}')\n",
    "\n",
    "    print()\n",
    "    print(f\"Precision Score Train : {precision_score_train}\")\n",
    "    print(f\"Precision Score Validation : {precision_score_valid}\")\n",
    "    print(f\"Precision Score Test : {precision_score_test}\")\n",
    "\n",
    "    print()\n",
    "    print(f\"recall Score Train : {recall_score_train}\")\n",
    "    print(f\"recall Score Validation : {recall_score_valid}\")\n",
    "    print(f\"recal Score Test : {recall_score_test}\")\n",
    "\n",
    "    print()\n",
    "    print(f\"f1 Score Train : {f1_score_train}\")\n",
    "    print(f\"f1 Score Validation : {f1_score_valid}\")\n",
    "    print(f\"f1 Score Test : {f1_score_test}\")\n",
    "\n",
    "    print()\n",
    "    #confusion matrix\n",
    "    plt.figure(figsize = (3,3))\n",
    "    sns.heatmap(confusion_matrix(y_train,y_train_pred),annot = True)\n",
    "    plt.title('Confusion Matrix')\n",
    "    plt.show()\n",
    "\n",
    "    return accuracy_score_train,accuracy_score_valid,accuracy_score_test,precision_score_train,precision_score_valid,precision_score_test,recall_score_train,recall_score_valid,recall_score_test,f1_score_train,f1_score_valid,f1_score_test\n"
   ]
  },
  {
   "cell_type": "code",
   "execution_count": 25,
   "metadata": {
    "colab": {
     "base_uri": "https://localhost:8080/",
     "height": 75
    },
    "id": "onzuoqqqgx23",
    "outputId": "ff6f2a72-bba9-4ed4-9d35-791f0328d890"
   },
   "outputs": [
    {
     "data": {
      "text/plain": [
       "LogisticRegression(random_state=42)"
      ]
     },
     "execution_count": 25,
     "metadata": {},
     "output_type": "execute_result"
    }
   ],
   "source": [
    "model1 = LogisticRegression(random_state=42)\n",
    "model1.fit(X_train, y_train)"
   ]
  },
  {
   "cell_type": "code",
   "execution_count": 26,
   "metadata": {
    "colab": {
     "base_uri": "https://localhost:8080/",
     "height": 626
    },
    "id": "gB1R9TZgtR-3",
    "outputId": "03cb9521-db4a-4d74-87b2-fe94c5c6e7ed"
   },
   "outputs": [
    {
     "name": "stdout",
     "output_type": "stream",
     "text": [
      "Model performance for Logistic Regression\n",
      "\n",
      "Accuracy Score Train : 0.82\n",
      "Accuracy Score Validation : 0.9\n",
      "Accuracy Score Test : 0.88\n",
      "\n",
      "Precision Score Train : 0.82\n",
      "Precision Score Validation : 1.0\n",
      "Precision Score Test : 0.86\n",
      "\n",
      "recall Score Train : 0.62\n",
      "recall Score Validation : 0.73\n",
      "recal Score Test : 0.82\n",
      "\n",
      "f1 Score Train : 0.71\n",
      "f1 Score Validation : 0.85\n",
      "f1 Score Test : 0.84\n",
      "\n"
     ]
    },
    {
     "data": {
      "image/png": "[encoded data removed]",
      "text/plain": [
       "<Figure size 216x216 with 2 Axes>"
      ]
     },
     "metadata": {
      "needs_background": "light"
     },
     "output_type": "display_data"
    }
   ],
   "source": [
    "lg = evaluate_classification_model(model1, 'Logistic Regression',X_train,y_train,X_test,y_test,X_val,y_val)"
   ]
  },
  {
   "cell_type": "code",
   "execution_count": 27,
   "metadata": {
    "colab": {
     "base_uri": "https://localhost:8080/",
     "height": 75
    },
    "id": "uycBSvO5pG93",
    "outputId": "ddbfeb3b-c1b8-4965-e02b-9c390dfeabcb"
   },
   "outputs": [
    {
     "data": {
      "text/plain": [
       "SVC(kernel='linear', random_state=42)"
      ]
     },
     "execution_count": 27,
     "metadata": {},
     "output_type": "execute_result"
    }
   ],
   "source": [
    "model2 = SVC(kernel='linear', random_state=42)\n",
    "model2.fit(X_train, y_train)"
   ]
  },
  {
   "cell_type": "code",
   "execution_count": 28,
   "metadata": {
    "colab": {
     "base_uri": "https://localhost:8080/",
     "height": 626
    },
    "id": "4x9n9PrA0aAr",
    "outputId": "4c21f43e-903e-4d9c-f3a0-c2df96bc132e"
   },
   "outputs": [
    {
     "name": "stdout",
     "output_type": "stream",
     "text": [
      "Model performance for SVC\n",
      "\n",
      "Accuracy Score Train : 0.82\n",
      "Accuracy Score Validation : 0.9\n",
      "Accuracy Score Test : 0.88\n",
      "\n",
      "Precision Score Train : 0.82\n",
      "Precision Score Validation : 1.0\n",
      "Precision Score Test : 0.86\n",
      "\n",
      "recall Score Train : 0.64\n",
      "recall Score Validation : 0.73\n",
      "recal Score Test : 0.82\n",
      "\n",
      "f1 Score Train : 0.72\n",
      "f1 Score Validation : 0.85\n",
      "f1 Score Test : 0.84\n",
      "\n"
     ]
    },
    {
     "data": {
      "image/png": "[encoded data removed]",
      "text/plain": [
       "<Figure size 216x216 with 2 Axes>"
      ]
     },
     "metadata": {
      "needs_background": "light"
     },
     "output_type": "display_data"
    }
   ],
   "source": [
    "svc = evaluate_classification_model(model2, 'SVC',X_train,y_train,X_test,y_test,X_val,y_val)"
   ]
  },
  {
   "cell_type": "code",
   "execution_count": 29,
   "metadata": {
    "id": "_Fyu5zY_5z2Y"
   },
   "outputs": [],
   "source": [
    "model_performance = [[\"Logistic Regression\",lg[0],lg[1],lg[2],lg[3],lg[4],lg[5],lg[6],lg[7],lg[8],lg[9],lg[10],lg[11]],\n",
    "                     [\"Support Vector Machine\",svc[0],svc[1],svc[2],svc[3],svc[4],svc[5],svc[6],svc[7],svc[8],svc[9],svc[10],svc[11]]]"
   ]
  },
  {
   "cell_type": "code",
   "execution_count": 30,
   "metadata": {
    "id": "1BgMKP6m5zre"
   },
   "outputs": [],
   "source": [
    "model_performance = pd.DataFrame(model_performance,columns = [\"Model Name\",\"Accuracy Score Train\",\"Accuracy Score Validation\",\"Accuracy Score Test\",\"Precision Score Train\",\"Precision Score Validation\",\"Precision Score Test\",\"Recall Score Train\",\"Recall Score Validation\",\"Recall Score Test\",\"F1 Score Train\",\"F1 Score Validation\",\"F1 Score Test\"])"
   ]
  },
  {
   "cell_type": "code",
   "execution_count": 31,
   "metadata": {
    "colab": {
     "base_uri": "https://localhost:8080/",
     "height": 243
    },
    "id": "3cYmZFlE0nZx",
    "outputId": "7c1d678f-a231-46c5-81a7-88150772ca39"
   },
   "outputs": [
    {
     "data": {
      "text/html": [
       "<div>\n",
       "<style scoped>\n",
       "    .dataframe tbody tr th:only-of-type {\n",
       "        vertical-align: middle;\n",
       "    }\n",
       "\n",
       "    .dataframe tbody tr th {\n",
       "        vertical-align: top;\n",
       "    }\n",
       "\n",
       "    .dataframe thead th {\n",
       "        text-align: right;\n",
       "    }\n",
       "</style>\n",
       "<table border=\"1\" class=\"dataframe\">\n",
       "  <thead>\n",
       "    <tr style=\"text-align: right;\">\n",
       "      <th></th>\n",
       "      <th>Model Name</th>\n",
       "      <th>Accuracy Score Train</th>\n",
       "      <th>Accuracy Score Validation</th>\n",
       "      <th>Accuracy Score Test</th>\n",
       "      <th>Precision Score Train</th>\n",
       "      <th>Precision Score Validation</th>\n",
       "      <th>Precision Score Test</th>\n",
       "      <th>Recall Score Train</th>\n",
       "      <th>Recall Score Validation</th>\n",
       "      <th>Recall Score Test</th>\n",
       "      <th>F1 Score Train</th>\n",
       "      <th>F1 Score Validation</th>\n",
       "      <th>F1 Score Test</th>\n",
       "    </tr>\n",
       "  </thead>\n",
       "  <tbody>\n",
       "    <tr>\n",
       "      <th>0</th>\n",
       "      <td>Logistic Regression</td>\n",
       "      <td>0.82</td>\n",
       "      <td>0.9</td>\n",
       "      <td>0.88</td>\n",
       "      <td>0.82</td>\n",
       "      <td>1.0</td>\n",
       "      <td>0.86</td>\n",
       "      <td>0.62</td>\n",
       "      <td>0.73</td>\n",
       "      <td>0.82</td>\n",
       "      <td>0.71</td>\n",
       "      <td>0.85</td>\n",
       "      <td>0.84</td>\n",
       "    </tr>\n",
       "    <tr>\n",
       "      <th>1</th>\n",
       "      <td>Support Vector Machine</td>\n",
       "      <td>0.82</td>\n",
       "      <td>0.9</td>\n",
       "      <td>0.88</td>\n",
       "      <td>0.82</td>\n",
       "      <td>1.0</td>\n",
       "      <td>0.86</td>\n",
       "      <td>0.64</td>\n",
       "      <td>0.73</td>\n",
       "      <td>0.82</td>\n",
       "      <td>0.72</td>\n",
       "      <td>0.85</td>\n",
       "      <td>0.84</td>\n",
       "    </tr>\n",
       "  </tbody>\n",
       "</table>\n",
       "</div>"
      ],
      "text/plain": [
       "               Model Name  Accuracy Score Train  Accuracy Score Validation  \\\n",
       "0     Logistic Regression                  0.82                        0.9   \n",
       "1  Support Vector Machine                  0.82                        0.9   \n",
       "\n",
       "   Accuracy Score Test  Precision Score Train  Precision Score Validation  \\\n",
       "0                 0.88                   0.82                         1.0   \n",
       "1                 0.88                   0.82                         1.0   \n",
       "\n",
       "   Precision Score Test  Recall Score Train  Recall Score Validation  \\\n",
       "0                  0.86                0.62                     0.73   \n",
       "1                  0.86                0.64                     0.73   \n",
       "\n",
       "   Recall Score Test  F1 Score Train  F1 Score Validation  F1 Score Test  \n",
       "0               0.82            0.71                 0.85           0.84  \n",
       "1               0.82            0.72                 0.85           0.84  "
      ]
     },
     "execution_count": 31,
     "metadata": {},
     "output_type": "execute_result"
    }
   ],
   "source": [
    "model_performance"
   ]
  },
  {
   "cell_type": "markdown",
   "metadata": {
    "id": "s0nPQJG2LaDm"
   },
   "source": [
    "Now, try with \"Age\" and \"EstimatedSalary\"."
   ]
  },
  {
   "cell_type": "code",
   "execution_count": 32,
   "metadata": {
    "id": "PVjCqWVk7O65"
   },
   "outputs": [],
   "source": [
    "X1 = User_df2[['Age','EstimatedSalary']]\n",
    "y1 = User_df2[['Purchased']]"
   ]
  },
  {
   "cell_type": "code",
   "execution_count": 33,
   "metadata": {
    "id": "N9ONFkTNLZIN"
   },
   "outputs": [],
   "source": [
    "X_train1, X_temp1, y_train1, y_temp1 = train_test_split(X1, y1, test_size=0.25, random_state=42)\n",
    "X_val1, X_test1, y_val1, y_test1 = train_test_split(X_temp1, y_temp1, test_size=0.6, random_state=42)"
   ]
  },
  {
   "cell_type": "code",
   "execution_count": 34,
   "metadata": {
    "colab": {
     "base_uri": "https://localhost:8080/",
     "height": 75
    },
    "id": "x-FtGU9QLo6t",
    "outputId": "123d278a-2382-45c0-c311-85ee399678a7"
   },
   "outputs": [
    {
     "data": {
      "text/plain": [
       "LogisticRegression(random_state=42)"
      ]
     },
     "execution_count": 34,
     "metadata": {},
     "output_type": "execute_result"
    }
   ],
   "source": [
    "model11 = LogisticRegression(random_state=42)\n",
    "model11.fit(X_train1, y_train1)"
   ]
  },
  {
   "cell_type": "code",
   "execution_count": 35,
   "metadata": {
    "colab": {
     "base_uri": "https://localhost:8080/",
     "height": 626
    },
    "id": "EAAC0IZLLo1u",
    "outputId": "02c88acc-9972-41e8-faa8-f31629eaf019"
   },
   "outputs": [
    {
     "name": "stdout",
     "output_type": "stream",
     "text": [
      "Model performance for Logistic Regression\n",
      "\n",
      "Accuracy Score Train : 0.84\n",
      "Accuracy Score Validation : 0.88\n",
      "Accuracy Score Test : 0.85\n",
      "\n",
      "Precision Score Train : 0.83\n",
      "Precision Score Validation : 1.0\n",
      "Precision Score Test : 0.88\n",
      "\n",
      "recall Score Train : 0.68\n",
      "recall Score Validation : 0.67\n",
      "recal Score Test : 0.68\n",
      "\n",
      "f1 Score Train : 0.75\n",
      "f1 Score Validation : 0.8\n",
      "f1 Score Test : 0.77\n",
      "\n"
     ]
    },
    {
     "data": {
      "image/png": "[encoded data removed]",
      "text/plain": [
       "<Figure size 216x216 with 2 Axes>"
      ]
     },
     "metadata": {
      "needs_background": "light"
     },
     "output_type": "display_data"
    }
   ],
   "source": [
    "lg1 = evaluate_classification_model(model11, 'Logistic Regression',X_train1,y_train1,X_test1,y_test1,X_val1,y_val1)"
   ]
  },
  {
   "cell_type": "code",
   "execution_count": 36,
   "metadata": {
    "colab": {
     "base_uri": "https://localhost:8080/",
     "height": 75
    },
    "id": "TlgSDXktLouF",
    "outputId": "d32441cc-b2d2-4712-e819-640201f26276"
   },
   "outputs": [
    {
     "data": {
      "text/plain": [
       "SVC(kernel='linear', random_state=42)"
      ]
     },
     "execution_count": 36,
     "metadata": {},
     "output_type": "execute_result"
    }
   ],
   "source": [
    "model21 = SVC(kernel='linear', random_state=42)\n",
    "model21.fit(X_train1, y_train1)"
   ]
  },
  {
   "cell_type": "code",
   "execution_count": 37,
   "metadata": {
    "colab": {
     "base_uri": "https://localhost:8080/",
     "height": 626
    },
    "id": "ocoHFNAxLonm",
    "outputId": "2495ff82-7b94-4ecf-e9df-c5925fd9cb3b"
   },
   "outputs": [
    {
     "name": "stdout",
     "output_type": "stream",
     "text": [
      "Model performance for SVC\n",
      "\n",
      "Accuracy Score Train : 0.82\n",
      "Accuracy Score Validation : 0.88\n",
      "Accuracy Score Test : 0.85\n",
      "\n",
      "Precision Score Train : 0.83\n",
      "Precision Score Validation : 1.0\n",
      "Precision Score Test : 0.88\n",
      "\n",
      "recall Score Train : 0.63\n",
      "recall Score Validation : 0.67\n",
      "recal Score Test : 0.68\n",
      "\n",
      "f1 Score Train : 0.72\n",
      "f1 Score Validation : 0.8\n",
      "f1 Score Test : 0.77\n",
      "\n"
     ]
    },
    {
     "data": {
      "image/png": "[encoded data removed]",
      "text/plain": [
       "<Figure size 216x216 with 2 Axes>"
      ]
     },
     "metadata": {
      "needs_background": "light"
     },
     "output_type": "display_data"
    }
   ],
   "source": [
    "svc1 = evaluate_classification_model(model21, 'SVC',X_train1,y_train1,X_test1,y_test1,X_val1,y_val1)"
   ]
  },
  {
   "cell_type": "code",
   "execution_count": 38,
   "metadata": {
    "id": "5zJNK2sbM0wr"
   },
   "outputs": [],
   "source": [
    "model_performance1 = [[\"Logistic Regression\",lg1[0],lg1[1],lg1[2],lg1[3],lg1[4],lg1[5],lg1[6],lg1[7],lg1[8],lg1[9],lg1[10],lg1[11]],\n",
    "                     [\"Support Vector Machine\",svc1[0],svc1[1],svc1[2],svc1[3],svc1[4],svc1[5],svc1[6],svc1[7],svc1[8],svc1[9],svc1[10],svc1[11]]]"
   ]
  },
  {
   "cell_type": "code",
   "execution_count": 39,
   "metadata": {
    "id": "zpNjsftBM0jE"
   },
   "outputs": [],
   "source": [
    "model_performance1 = pd.DataFrame(model_performance1,columns = [\"Model Name\",\"Accuracy Score Train\",\"Accuracy Score Validation\",\"Accuracy Score Test\",\"Precision Score Train\",\"Precision Score Validation\",\"Precision Score Test\",\"Recall Score Train\",\"Recall Score Validation\",\"Recall Score Test\",\"F1 Score Train\",\"F1 Score Validation\",\"F1 Score Test\"])"
   ]
  },
  {
   "cell_type": "code",
   "execution_count": 40,
   "metadata": {
    "colab": {
     "base_uri": "https://localhost:8080/",
     "height": 243
    },
    "id": "RvL_YN3cNP7K",
    "outputId": "d7df2a96-808d-414e-97c4-221bf792fb27"
   },
   "outputs": [
    {
     "data": {
      "text/html": [
       "<div>\n",
       "<style scoped>\n",
       "    .dataframe tbody tr th:only-of-type {\n",
       "        vertical-align: middle;\n",
       "    }\n",
       "\n",
       "    .dataframe tbody tr th {\n",
       "        vertical-align: top;\n",
       "    }\n",
       "\n",
       "    .dataframe thead th {\n",
       "        text-align: right;\n",
       "    }\n",
       "</style>\n",
       "<table border=\"1\" class=\"dataframe\">\n",
       "  <thead>\n",
       "    <tr style=\"text-align: right;\">\n",
       "      <th></th>\n",
       "      <th>Model Name</th>\n",
       "      <th>Accuracy Score Train</th>\n",
       "      <th>Accuracy Score Validation</th>\n",
       "      <th>Accuracy Score Test</th>\n",
       "      <th>Precision Score Train</th>\n",
       "      <th>Precision Score Validation</th>\n",
       "      <th>Precision Score Test</th>\n",
       "      <th>Recall Score Train</th>\n",
       "      <th>Recall Score Validation</th>\n",
       "      <th>Recall Score Test</th>\n",
       "      <th>F1 Score Train</th>\n",
       "      <th>F1 Score Validation</th>\n",
       "      <th>F1 Score Test</th>\n",
       "    </tr>\n",
       "  </thead>\n",
       "  <tbody>\n",
       "    <tr>\n",
       "      <th>0</th>\n",
       "      <td>Logistic Regression</td>\n",
       "      <td>0.84</td>\n",
       "      <td>0.88</td>\n",
       "      <td>0.85</td>\n",
       "      <td>0.83</td>\n",
       "      <td>1.0</td>\n",
       "      <td>0.88</td>\n",
       "      <td>0.68</td>\n",
       "      <td>0.67</td>\n",
       "      <td>0.68</td>\n",
       "      <td>0.75</td>\n",
       "      <td>0.8</td>\n",
       "      <td>0.77</td>\n",
       "    </tr>\n",
       "    <tr>\n",
       "      <th>1</th>\n",
       "      <td>Support Vector Machine</td>\n",
       "      <td>0.82</td>\n",
       "      <td>0.88</td>\n",
       "      <td>0.85</td>\n",
       "      <td>0.83</td>\n",
       "      <td>1.0</td>\n",
       "      <td>0.88</td>\n",
       "      <td>0.63</td>\n",
       "      <td>0.67</td>\n",
       "      <td>0.68</td>\n",
       "      <td>0.72</td>\n",
       "      <td>0.8</td>\n",
       "      <td>0.77</td>\n",
       "    </tr>\n",
       "  </tbody>\n",
       "</table>\n",
       "</div>"
      ],
      "text/plain": [
       "               Model Name  Accuracy Score Train  Accuracy Score Validation  \\\n",
       "0     Logistic Regression                  0.84                       0.88   \n",
       "1  Support Vector Machine                  0.82                       0.88   \n",
       "\n",
       "   Accuracy Score Test  Precision Score Train  Precision Score Validation  \\\n",
       "0                 0.85                   0.83                         1.0   \n",
       "1                 0.85                   0.83                         1.0   \n",
       "\n",
       "   Precision Score Test  Recall Score Train  Recall Score Validation  \\\n",
       "0                  0.88                0.68                     0.67   \n",
       "1                  0.88                0.63                     0.67   \n",
       "\n",
       "   Recall Score Test  F1 Score Train  F1 Score Validation  F1 Score Test  \n",
       "0               0.68            0.75                  0.8           0.77  \n",
       "1               0.68            0.72                  0.8           0.77  "
      ]
     },
     "execution_count": 40,
     "metadata": {},
     "output_type": "execute_result"
    }
   ],
   "source": [
    "# Models perfomance when use \"Age\" and \"EstimatedSalary\"\n",
    "model_performance1"
   ]
  },
  {
   "cell_type": "code",
   "execution_count": 41,
   "metadata": {
    "colab": {
     "base_uri": "https://localhost:8080/",
     "height": 243
    },
    "id": "6CVGsmgHNP-u",
    "outputId": "2fcee943-e6e0-4d73-882b-1df77899c92c"
   },
   "outputs": [
    {
     "data": {
      "text/html": [
       "<div>\n",
       "<style scoped>\n",
       "    .dataframe tbody tr th:only-of-type {\n",
       "        vertical-align: middle;\n",
       "    }\n",
       "\n",
       "    .dataframe tbody tr th {\n",
       "        vertical-align: top;\n",
       "    }\n",
       "\n",
       "    .dataframe thead th {\n",
       "        text-align: right;\n",
       "    }\n",
       "</style>\n",
       "<table border=\"1\" class=\"dataframe\">\n",
       "  <thead>\n",
       "    <tr style=\"text-align: right;\">\n",
       "      <th></th>\n",
       "      <th>Model Name</th>\n",
       "      <th>Accuracy Score Train</th>\n",
       "      <th>Accuracy Score Validation</th>\n",
       "      <th>Accuracy Score Test</th>\n",
       "      <th>Precision Score Train</th>\n",
       "      <th>Precision Score Validation</th>\n",
       "      <th>Precision Score Test</th>\n",
       "      <th>Recall Score Train</th>\n",
       "      <th>Recall Score Validation</th>\n",
       "      <th>Recall Score Test</th>\n",
       "      <th>F1 Score Train</th>\n",
       "      <th>F1 Score Validation</th>\n",
       "      <th>F1 Score Test</th>\n",
       "    </tr>\n",
       "  </thead>\n",
       "  <tbody>\n",
       "    <tr>\n",
       "      <th>0</th>\n",
       "      <td>Logistic Regression</td>\n",
       "      <td>0.82</td>\n",
       "      <td>0.9</td>\n",
       "      <td>0.88</td>\n",
       "      <td>0.82</td>\n",
       "      <td>1.0</td>\n",
       "      <td>0.86</td>\n",
       "      <td>0.62</td>\n",
       "      <td>0.73</td>\n",
       "      <td>0.82</td>\n",
       "      <td>0.71</td>\n",
       "      <td>0.85</td>\n",
       "      <td>0.84</td>\n",
       "    </tr>\n",
       "    <tr>\n",
       "      <th>1</th>\n",
       "      <td>Support Vector Machine</td>\n",
       "      <td>0.82</td>\n",
       "      <td>0.9</td>\n",
       "      <td>0.88</td>\n",
       "      <td>0.82</td>\n",
       "      <td>1.0</td>\n",
       "      <td>0.86</td>\n",
       "      <td>0.64</td>\n",
       "      <td>0.73</td>\n",
       "      <td>0.82</td>\n",
       "      <td>0.72</td>\n",
       "      <td>0.85</td>\n",
       "      <td>0.84</td>\n",
       "    </tr>\n",
       "  </tbody>\n",
       "</table>\n",
       "</div>"
      ],
      "text/plain": [
       "               Model Name  Accuracy Score Train  Accuracy Score Validation  \\\n",
       "0     Logistic Regression                  0.82                        0.9   \n",
       "1  Support Vector Machine                  0.82                        0.9   \n",
       "\n",
       "   Accuracy Score Test  Precision Score Train  Precision Score Validation  \\\n",
       "0                 0.88                   0.82                         1.0   \n",
       "1                 0.88                   0.82                         1.0   \n",
       "\n",
       "   Precision Score Test  Recall Score Train  Recall Score Validation  \\\n",
       "0                  0.86                0.62                     0.73   \n",
       "1                  0.86                0.64                     0.73   \n",
       "\n",
       "   Recall Score Test  F1 Score Train  F1 Score Validation  F1 Score Test  \n",
       "0               0.82            0.71                 0.85           0.84  \n",
       "1               0.82            0.72                 0.85           0.84  "
      ]
     },
     "execution_count": 41,
     "metadata": {},
     "output_type": "execute_result"
    }
   ],
   "source": [
    "# Models perfomance when use only \"Age\"\n",
    "model_performance"
   ]
  },
  {
   "cell_type": "markdown",
   "metadata": {
    "id": "y7t7NPH0PtiJ"
   },
   "source": [
    "\n",
    "**From above comparison, we can see that when we use only \"Age\" it will give best accuracy in validation data as well as test data.**"
   ]
  },
  {
   "cell_type": "markdown",
   "metadata": {
    "id": "4zV0Ek6qObUc"
   },
   "source": [
    "# **2. Dibetes_Data**"
   ]
  },
  {
   "cell_type": "markdown",
   "metadata": {
    "id": "zUUOa8ucPHDF"
   },
   "source": [
    "### **1. Load Data and check if the data has missing value**"
   ]
  },
  {
   "cell_type": "code",
   "execution_count": 42,
   "metadata": {
    "id": "6JkzylnkQgQJ"
   },
   "outputs": [],
   "source": [
    "D_df = pd.read_csv('A01_diabetes.csv')"
   ]
  },
  {
   "cell_type": "code",
   "execution_count": 43,
   "metadata": {
    "colab": {
     "base_uri": "https://localhost:8080/"
    },
    "id": "004Mnt6zQhjP",
    "outputId": "033b1edb-e503-4bb3-dc1c-9b2fd3af2dfe"
   },
   "outputs": [
    {
     "name": "stdout",
     "output_type": "stream",
     "text": [
      "Dibetes shape :  (768, 9)\n"
     ]
    }
   ],
   "source": [
    "print('Dibetes shape : ', D_df.shape)"
   ]
  },
  {
   "cell_type": "code",
   "execution_count": 44,
   "metadata": {
    "colab": {
     "base_uri": "https://localhost:8080/"
    },
    "id": "-Fo7FeZJ1txx",
    "outputId": "957c35df-501f-4ea4-9e7a-6a1489597b4d"
   },
   "outputs": [
    {
     "name": "stdout",
     "output_type": "stream",
     "text": [
      "Columns of Dibetes_Data : Index(['Pregnancies', 'Glucose', 'BloodPressure', 'SkinThickness', 'Insulin',\n",
      "       'BMI', 'DiabetesPedigreeFunction', 'Age', 'Outcome'],\n",
      "      dtype='object')\n"
     ]
    }
   ],
   "source": [
    "print(\"Columns of Dibetes_Data :\", D_df.columns)"
   ]
  },
  {
   "cell_type": "code",
   "execution_count": 45,
   "metadata": {
    "colab": {
     "base_uri": "https://localhost:8080/"
    },
    "id": "IaEd06cq2OPN",
    "outputId": "11269b7d-db3e-4685-e574-cef953a9620f"
   },
   "outputs": [
    {
     "name": "stdout",
     "output_type": "stream",
     "text": [
      "<class 'pandas.core.frame.DataFrame'>\n",
      "RangeIndex: 768 entries, 0 to 767\n",
      "Data columns (total 9 columns):\n",
      " #   Column                    Non-Null Count  Dtype  \n",
      "---  ------                    --------------  -----  \n",
      " 0   Pregnancies               768 non-null    int64  \n",
      " 1   Glucose                   768 non-null    int64  \n",
      " 2   BloodPressure             768 non-null    int64  \n",
      " 3   SkinThickness             768 non-null    int64  \n",
      " 4   Insulin                   768 non-null    int64  \n",
      " 5   BMI                       768 non-null    float64\n",
      " 6   DiabetesPedigreeFunction  768 non-null    float64\n",
      " 7   Age                       768 non-null    int64  \n",
      " 8   Outcome                   768 non-null    int64  \n",
      "dtypes: float64(2), int64(7)\n",
      "memory usage: 54.1 KB\n"
     ]
    }
   ],
   "source": [
    "# Basic information of Dibetes Data\n",
    "D_df.info()"
   ]
  },
  {
   "cell_type": "code",
   "execution_count": 46,
   "metadata": {
    "colab": {
     "base_uri": "https://localhost:8080/",
     "height": 206
    },
    "id": "nD3nFjutsdkv",
    "outputId": "19f6506d-25b3-456b-82a6-d7cb889f545a"
   },
   "outputs": [
    {
     "data": {
      "text/html": [
       "<div>\n",
       "<style scoped>\n",
       "    .dataframe tbody tr th:only-of-type {\n",
       "        vertical-align: middle;\n",
       "    }\n",
       "\n",
       "    .dataframe tbody tr th {\n",
       "        vertical-align: top;\n",
       "    }\n",
       "\n",
       "    .dataframe thead th {\n",
       "        text-align: right;\n",
       "    }\n",
       "</style>\n",
       "<table border=\"1\" class=\"dataframe\">\n",
       "  <thead>\n",
       "    <tr style=\"text-align: right;\">\n",
       "      <th></th>\n",
       "      <th>Pregnancies</th>\n",
       "      <th>Glucose</th>\n",
       "      <th>BloodPressure</th>\n",
       "      <th>SkinThickness</th>\n",
       "      <th>Insulin</th>\n",
       "      <th>BMI</th>\n",
       "      <th>DiabetesPedigreeFunction</th>\n",
       "      <th>Age</th>\n",
       "      <th>Outcome</th>\n",
       "    </tr>\n",
       "  </thead>\n",
       "  <tbody>\n",
       "    <tr>\n",
       "      <th>0</th>\n",
       "      <td>6</td>\n",
       "      <td>148</td>\n",
       "      <td>72</td>\n",
       "      <td>35</td>\n",
       "      <td>0</td>\n",
       "      <td>33.6</td>\n",
       "      <td>0.627</td>\n",
       "      <td>50</td>\n",
       "      <td>1</td>\n",
       "    </tr>\n",
       "    <tr>\n",
       "      <th>1</th>\n",
       "      <td>1</td>\n",
       "      <td>85</td>\n",
       "      <td>66</td>\n",
       "      <td>29</td>\n",
       "      <td>0</td>\n",
       "      <td>26.6</td>\n",
       "      <td>0.351</td>\n",
       "      <td>31</td>\n",
       "      <td>0</td>\n",
       "    </tr>\n",
       "    <tr>\n",
       "      <th>2</th>\n",
       "      <td>8</td>\n",
       "      <td>183</td>\n",
       "      <td>64</td>\n",
       "      <td>0</td>\n",
       "      <td>0</td>\n",
       "      <td>23.3</td>\n",
       "      <td>0.672</td>\n",
       "      <td>32</td>\n",
       "      <td>1</td>\n",
       "    </tr>\n",
       "    <tr>\n",
       "      <th>3</th>\n",
       "      <td>1</td>\n",
       "      <td>89</td>\n",
       "      <td>66</td>\n",
       "      <td>23</td>\n",
       "      <td>94</td>\n",
       "      <td>28.1</td>\n",
       "      <td>0.167</td>\n",
       "      <td>21</td>\n",
       "      <td>0</td>\n",
       "    </tr>\n",
       "    <tr>\n",
       "      <th>4</th>\n",
       "      <td>0</td>\n",
       "      <td>137</td>\n",
       "      <td>40</td>\n",
       "      <td>35</td>\n",
       "      <td>168</td>\n",
       "      <td>43.1</td>\n",
       "      <td>2.288</td>\n",
       "      <td>33</td>\n",
       "      <td>1</td>\n",
       "    </tr>\n",
       "  </tbody>\n",
       "</table>\n",
       "</div>"
      ],
      "text/plain": [
       "   Pregnancies  Glucose  BloodPressure  SkinThickness  Insulin   BMI  \\\n",
       "0            6      148             72             35        0  33.6   \n",
       "1            1       85             66             29        0  26.6   \n",
       "2            8      183             64              0        0  23.3   \n",
       "3            1       89             66             23       94  28.1   \n",
       "4            0      137             40             35      168  43.1   \n",
       "\n",
       "   DiabetesPedigreeFunction  Age  Outcome  \n",
       "0                     0.627   50        1  \n",
       "1                     0.351   31        0  \n",
       "2                     0.672   32        1  \n",
       "3                     0.167   21        0  \n",
       "4                     2.288   33        1  "
      ]
     },
     "execution_count": 46,
     "metadata": {},
     "output_type": "execute_result"
    }
   ],
   "source": [
    "# Preview of Dibetes Data\n",
    "D_df.head()"
   ]
  },
  {
   "cell_type": "code",
   "execution_count": 47,
   "metadata": {
    "colab": {
     "base_uri": "https://localhost:8080/"
    },
    "id": "fcAAm_K3skj7",
    "outputId": "35a6b89c-6543-4c31-a748-a0b201b4ef9d"
   },
   "outputs": [
    {
     "data": {
      "text/plain": [
       "Pregnancies                 0\n",
       "Glucose                     0\n",
       "BloodPressure               0\n",
       "SkinThickness               0\n",
       "Insulin                     0\n",
       "BMI                         0\n",
       "DiabetesPedigreeFunction    0\n",
       "Age                         0\n",
       "Outcome                     0\n",
       "dtype: int64"
      ]
     },
     "execution_count": 47,
     "metadata": {},
     "output_type": "execute_result"
    }
   ],
   "source": [
    "# Check for missing values in Dibetes Data\n",
    "D_df.isna().sum()"
   ]
  },
  {
   "cell_type": "markdown",
   "metadata": {
    "id": "-EiWgNACPV79"
   },
   "source": [
    "### **2. Identify which features need to be encoded and encode them**"
   ]
  },
  {
   "cell_type": "code",
   "execution_count": 48,
   "metadata": {
    "id": "DlVh7-hE3BqA"
   },
   "outputs": [],
   "source": [
    "# Make a copy of main dataset\n",
    "D_df1 = D_df.copy()"
   ]
  },
  {
   "cell_type": "code",
   "execution_count": 49,
   "metadata": {
    "colab": {
     "base_uri": "https://localhost:8080/"
    },
    "id": "4QbNGZ9v3Eoi",
    "outputId": "5debcebf-fedf-442b-da85-9fe488d966cc"
   },
   "outputs": [
    {
     "name": "stdout",
     "output_type": "stream",
     "text": [
      "<class 'pandas.core.frame.DataFrame'>\n",
      "RangeIndex: 768 entries, 0 to 767\n",
      "Data columns (total 9 columns):\n",
      " #   Column                    Non-Null Count  Dtype  \n",
      "---  ------                    --------------  -----  \n",
      " 0   Pregnancies               768 non-null    int64  \n",
      " 1   Glucose                   768 non-null    int64  \n",
      " 2   BloodPressure             768 non-null    int64  \n",
      " 3   SkinThickness             768 non-null    int64  \n",
      " 4   Insulin                   768 non-null    int64  \n",
      " 5   BMI                       768 non-null    float64\n",
      " 6   DiabetesPedigreeFunction  768 non-null    float64\n",
      " 7   Age                       768 non-null    int64  \n",
      " 8   Outcome                   768 non-null    int64  \n",
      "dtypes: float64(2), int64(7)\n",
      "memory usage: 54.1 KB\n"
     ]
    }
   ],
   "source": [
    "D_df1.info()"
   ]
  },
  {
   "cell_type": "code",
   "execution_count": 50,
   "metadata": {
    "colab": {
     "base_uri": "https://localhost:8080/",
     "height": 206
    },
    "id": "yvhwz8l03Eea",
    "outputId": "433670c9-b519-4b21-dc45-51d6b05a530a"
   },
   "outputs": [
    {
     "data": {
      "text/html": [
       "<div>\n",
       "<style scoped>\n",
       "    .dataframe tbody tr th:only-of-type {\n",
       "        vertical-align: middle;\n",
       "    }\n",
       "\n",
       "    .dataframe tbody tr th {\n",
       "        vertical-align: top;\n",
       "    }\n",
       "\n",
       "    .dataframe thead th {\n",
       "        text-align: right;\n",
       "    }\n",
       "</style>\n",
       "<table border=\"1\" class=\"dataframe\">\n",
       "  <thead>\n",
       "    <tr style=\"text-align: right;\">\n",
       "      <th></th>\n",
       "      <th>Pregnancies</th>\n",
       "      <th>Glucose</th>\n",
       "      <th>BloodPressure</th>\n",
       "      <th>SkinThickness</th>\n",
       "      <th>Insulin</th>\n",
       "      <th>BMI</th>\n",
       "      <th>DiabetesPedigreeFunction</th>\n",
       "      <th>Age</th>\n",
       "      <th>Outcome</th>\n",
       "    </tr>\n",
       "  </thead>\n",
       "  <tbody>\n",
       "    <tr>\n",
       "      <th>0</th>\n",
       "      <td>6</td>\n",
       "      <td>148</td>\n",
       "      <td>72</td>\n",
       "      <td>35</td>\n",
       "      <td>0</td>\n",
       "      <td>33.6</td>\n",
       "      <td>0.627</td>\n",
       "      <td>50</td>\n",
       "      <td>1</td>\n",
       "    </tr>\n",
       "    <tr>\n",
       "      <th>1</th>\n",
       "      <td>1</td>\n",
       "      <td>85</td>\n",
       "      <td>66</td>\n",
       "      <td>29</td>\n",
       "      <td>0</td>\n",
       "      <td>26.6</td>\n",
       "      <td>0.351</td>\n",
       "      <td>31</td>\n",
       "      <td>0</td>\n",
       "    </tr>\n",
       "    <tr>\n",
       "      <th>2</th>\n",
       "      <td>8</td>\n",
       "      <td>183</td>\n",
       "      <td>64</td>\n",
       "      <td>0</td>\n",
       "      <td>0</td>\n",
       "      <td>23.3</td>\n",
       "      <td>0.672</td>\n",
       "      <td>32</td>\n",
       "      <td>1</td>\n",
       "    </tr>\n",
       "    <tr>\n",
       "      <th>3</th>\n",
       "      <td>1</td>\n",
       "      <td>89</td>\n",
       "      <td>66</td>\n",
       "      <td>23</td>\n",
       "      <td>94</td>\n",
       "      <td>28.1</td>\n",
       "      <td>0.167</td>\n",
       "      <td>21</td>\n",
       "      <td>0</td>\n",
       "    </tr>\n",
       "    <tr>\n",
       "      <th>4</th>\n",
       "      <td>0</td>\n",
       "      <td>137</td>\n",
       "      <td>40</td>\n",
       "      <td>35</td>\n",
       "      <td>168</td>\n",
       "      <td>43.1</td>\n",
       "      <td>2.288</td>\n",
       "      <td>33</td>\n",
       "      <td>1</td>\n",
       "    </tr>\n",
       "  </tbody>\n",
       "</table>\n",
       "</div>"
      ],
      "text/plain": [
       "   Pregnancies  Glucose  BloodPressure  SkinThickness  Insulin   BMI  \\\n",
       "0            6      148             72             35        0  33.6   \n",
       "1            1       85             66             29        0  26.6   \n",
       "2            8      183             64              0        0  23.3   \n",
       "3            1       89             66             23       94  28.1   \n",
       "4            0      137             40             35      168  43.1   \n",
       "\n",
       "   DiabetesPedigreeFunction  Age  Outcome  \n",
       "0                     0.627   50        1  \n",
       "1                     0.351   31        0  \n",
       "2                     0.672   32        1  \n",
       "3                     0.167   21        0  \n",
       "4                     2.288   33        1  "
      ]
     },
     "execution_count": 50,
     "metadata": {},
     "output_type": "execute_result"
    }
   ],
   "source": [
    "D_df1.head()"
   ]
  },
  {
   "cell_type": "markdown",
   "metadata": {
    "id": "gIIR_9cN37JG"
   },
   "source": [
    "Here, We can see that no categorical variable in Dibetes data.\n",
    "</br> Hence, No need to encoding"
   ]
  },
  {
   "cell_type": "markdown",
   "metadata": {
    "id": "Z5fVZR8ePi4u"
   },
   "source": [
    "### **3. Identify which features to normalize and normalize them**"
   ]
  },
  {
   "cell_type": "code",
   "execution_count": 51,
   "metadata": {
    "colab": {
     "base_uri": "https://localhost:8080/"
    },
    "id": "aE2LUevUaMLl",
    "outputId": "b72c91c2-f952-4e19-b4a5-96459b90082b"
   },
   "outputs": [
    {
     "data": {
      "text/plain": [
       "Index(['Pregnancies', 'Glucose', 'BloodPressure', 'SkinThickness', 'Insulin',\n",
       "       'BMI', 'DiabetesPedigreeFunction', 'Age', 'Outcome'],\n",
       "      dtype='object')"
      ]
     },
     "execution_count": 51,
     "metadata": {},
     "output_type": "execute_result"
    }
   ],
   "source": [
    "D_df1.columns"
   ]
  },
  {
   "cell_type": "code",
   "execution_count": 52,
   "metadata": {
    "colab": {
     "base_uri": "https://localhost:8080/",
     "height": 807
    },
    "id": "jeIM8zYnJNHs",
    "outputId": "3b1a6675-6db6-49af-ec5b-74e6827ff1d3"
   },
   "outputs": [
    {
     "data": {
      "image/png": "[encoded data removed]",
      "text/plain": [
       "<Figure size 720x576 with 8 Axes>"
      ]
     },
     "metadata": {
      "needs_background": "light"
     },
     "output_type": "display_data"
    }
   ],
   "source": [
    "features = ['Pregnancies', 'Glucose', 'BloodPressure', 'SkinThickness', 'Insulin',\n",
    "       'BMI', 'DiabetesPedigreeFunction', 'Age']\n",
    "row = len(features)//2 + len(features)%2\n",
    "col = 2\n",
    "fig, axes = plt.subplots(row, col, figsize=(10, 8))\n",
    "axes = axes.flatten()\n",
    "for i, feature in enumerate(features):\n",
    "    ax = axes[i]\n",
    "    sns.distplot(D_df1[feature], ax=ax)\n",
    "    ax.set_title(f\"Distribution of {feature}\")\n",
    "    ax.set_xlabel(\"Value\")\n",
    "    ax.set_ylabel(\"Density\")\n",
    "\n",
    "plt.tight_layout()\n",
    "plt.show()"
   ]
  },
  {
   "cell_type": "markdown",
   "metadata": {
    "id": "Ojgsk7t9coAY"
   },
   "source": [
    "Here, We can see that \"Glucose\", \"BloodPressure\" and \"BMI\" seem like a normal, </br> \"Pregnancies\", \"Insulin\", \"DiabetesPedigreeFunction\" and \"Age\" seem like a right skewed,\n",
    "</br> and \"SkinThickness\" seem like a bimodel."
   ]
  },
  {
   "cell_type": "markdown",
   "metadata": {
    "id": "Z_ZOojdOfR0_"
   },
   "source": [
    "So we can convert they accordingly."
   ]
  },
  {
   "cell_type": "code",
   "execution_count": 53,
   "metadata": {
    "id": "eiSiJG9_fwj3"
   },
   "outputs": [],
   "source": [
    "D_df2 = D_df1.copy()"
   ]
  },
  {
   "cell_type": "code",
   "execution_count": 54,
   "metadata": {
    "id": "PDJFKpmkbQyI"
   },
   "outputs": [],
   "source": [
    "sc = StandardScaler()\n",
    "D_df2['Glucose'] = sc.fit_transform(D_df2['Glucose'].values.reshape(-1,1))\n",
    "D_df2['BloodPressure'] = sc.fit_transform(D_df2['BloodPressure'].values.reshape(-1,1))\n",
    "D_df2['BMI'] = sc.fit_transform(D_df2['BMI'].values.reshape(-1,1))"
   ]
  },
  {
   "cell_type": "code",
   "execution_count": 55,
   "metadata": {
    "id": "79hFJSVLbQkN"
   },
   "outputs": [],
   "source": [
    "D_df2['Pregnancies'] = np.sqrt(D_df2['Pregnancies'])\n",
    "D_df2['Insulin'] = np.sqrt(D_df2['Insulin'])\n",
    "D_df2['DiabetesPedigreeFunction'] = np.sqrt(D_df2['DiabetesPedigreeFunction'])\n",
    "D_df2['Age'] = np.sqrt(D_df2['Age'])"
   ]
  },
  {
   "cell_type": "code",
   "execution_count": 56,
   "metadata": {
    "id": "J-nuwwaoguDz"
   },
   "outputs": [],
   "source": [
    "qt = QuantileTransformer(output_distribution='normal')\n",
    "D_df2['SkinThickness'] = qt.fit_transform(D_df2['SkinThickness'].values.reshape(-1,1))"
   ]
  },
  {
   "cell_type": "markdown",
   "metadata": {
    "id": "Y5fLhI1LP1c5"
   },
   "source": [
    "### **4. Identify whether the given task is of classification of regression**"
   ]
  },
  {
   "cell_type": "code",
   "execution_count": 57,
   "metadata": {
    "colab": {
     "base_uri": "https://localhost:8080/"
    },
    "id": "UBMbmDQ0inMh",
    "outputId": "84abc27b-b934-49de-98d1-ee483a2e257e"
   },
   "outputs": [
    {
     "data": {
      "text/plain": [
       "Index(['Pregnancies', 'Glucose', 'BloodPressure', 'SkinThickness', 'Insulin',\n",
       "       'BMI', 'DiabetesPedigreeFunction', 'Age', 'Outcome'],\n",
       "      dtype='object')"
      ]
     },
     "execution_count": 57,
     "metadata": {},
     "output_type": "execute_result"
    }
   ],
   "source": [
    "D_df2.columns"
   ]
  },
  {
   "cell_type": "markdown",
   "metadata": {
    "id": "N4KXjM7MjLUE"
   },
   "source": [
    "For this dataset our target variable is \"Outcome\" and it's binary. Hence our task is of classification."
   ]
  },
  {
   "cell_type": "code",
   "execution_count": 58,
   "metadata": {
    "colab": {
     "base_uri": "https://localhost:8080/",
     "height": 545
    },
    "id": "hviLoRI9im8r",
    "outputId": "5e6e445a-940c-43dd-b826-47aa4fcf8d53"
   },
   "outputs": [
    {
     "data": {
      "image/png": "[encoded data removed]",
      "text/plain": [
       "<Figure size 1800x720 with 2 Axes>"
      ]
     },
     "metadata": {
      "needs_background": "light"
     },
     "output_type": "display_data"
    }
   ],
   "source": [
    "plt.figure(figsize = (25,10))\n",
    "sns.heatmap(D_df2.corr(),annot = True);"
   ]
  },
  {
   "cell_type": "markdown",
   "metadata": {
    "id": "P2y_7WKvxgC9"
   },
   "source": [
    "In above heatmap, we can see that \"Glucose\", \"BMI\", \"Age\", \"Pregnancies\" and \" DiabetesPedigreeFunction\" are positivily related to our target variable in descending order."
   ]
  },
  {
   "cell_type": "markdown",
   "metadata": {
    "id": "TJMXqNQbyMmh"
   },
   "source": [
    "So, we 1st use \"Glucose\" because it's around 0.5"
   ]
  },
  {
   "cell_type": "code",
   "execution_count": 59,
   "metadata": {
    "id": "7fhjr8E6qU73"
   },
   "outputs": [],
   "source": [
    "X = D_df2[['Glucose']]\n",
    "y = D_df2[[\"Outcome\"]]"
   ]
  },
  {
   "cell_type": "markdown",
   "metadata": {
    "id": "DU5eTVR8P-mm"
   },
   "source": [
    "### **5. Split the data into train set (75%) validation set (10%) and test set (15%)**"
   ]
  },
  {
   "cell_type": "code",
   "execution_count": 60,
   "metadata": {
    "id": "S6o-nmYkqXvJ"
   },
   "outputs": [],
   "source": [
    "X_train, X_temp, y_train, y_temp = train_test_split(X, y, test_size=0.25, random_state=42)\n",
    "X_val, X_test, y_val, y_test = train_test_split(X_temp, y_temp, test_size=0.6, random_state=42)"
   ]
  },
  {
   "cell_type": "markdown",
   "metadata": {
    "id": "xDeM_FkvQGu5"
   },
   "source": [
    "### **6. Fit the data into 2 models of your choice**"
   ]
  },
  {
   "cell_type": "code",
   "execution_count": 61,
   "metadata": {
    "colab": {
     "base_uri": "https://localhost:8080/",
     "height": 75
    },
    "id": "15E_T6yZqYWN",
    "outputId": "e55aea89-23a1-4dec-ea32-7500967494bd"
   },
   "outputs": [
    {
     "data": {
      "text/plain": [
       "LogisticRegression(random_state=42)"
      ]
     },
     "execution_count": 61,
     "metadata": {},
     "output_type": "execute_result"
    }
   ],
   "source": [
    "model1 = LogisticRegression(random_state=42)\n",
    "model1.fit(X_train, y_train)"
   ]
  },
  {
   "cell_type": "code",
   "execution_count": 62,
   "metadata": {
    "colab": {
     "base_uri": "https://localhost:8080/",
     "height": 626
    },
    "id": "Coy-jvVKzOOQ",
    "outputId": "8b70d92f-c288-42bb-b848-ce6d885b69bd"
   },
   "outputs": [
    {
     "name": "stdout",
     "output_type": "stream",
     "text": [
      "Model performance for Logistic Regression\n",
      "\n",
      "Accuracy Score Train : 0.76\n",
      "Accuracy Score Validation : 0.71\n",
      "Accuracy Score Test : 0.72\n",
      "\n",
      "Precision Score Train : 0.72\n",
      "Precision Score Validation : 0.57\n",
      "Precision Score Test : 0.67\n",
      "\n",
      "recall Score Train : 0.48\n",
      "recall Score Validation : 0.48\n",
      "recal Score Test : 0.5\n",
      "\n",
      "f1 Score Train : 0.58\n",
      "f1 Score Validation : 0.52\n",
      "f1 Score Test : 0.57\n",
      "\n"
     ]
    },
    {
     "data": {
      "image/png": "[encoded data removed]",
      "text/plain": [
       "<Figure size 216x216 with 2 Axes>"
      ]
     },
     "metadata": {
      "needs_background": "light"
     },
     "output_type": "display_data"
    }
   ],
   "source": [
    "lg = evaluate_classification_model(model1, 'Logistic Regression',X_train,y_train,X_test,y_test,X_val,y_val)"
   ]
  },
  {
   "cell_type": "code",
   "execution_count": 63,
   "metadata": {
    "colab": {
     "base_uri": "https://localhost:8080/",
     "height": 75
    },
    "id": "O0bztqxXzOJ6",
    "outputId": "fc3030b0-ffa5-49b2-dc80-17d821f951ef"
   },
   "outputs": [
    {
     "data": {
      "text/plain": [
       "SVC(kernel='linear', random_state=42)"
      ]
     },
     "execution_count": 63,
     "metadata": {},
     "output_type": "execute_result"
    }
   ],
   "source": [
    "model2 = SVC(kernel='linear', random_state=42)\n",
    "model2.fit(X_train, y_train)"
   ]
  },
  {
   "cell_type": "code",
   "execution_count": 64,
   "metadata": {
    "colab": {
     "base_uri": "https://localhost:8080/",
     "height": 626
    },
    "id": "-Qs9xPFOzOEb",
    "outputId": "bf4259e3-c085-4e66-ef4c-0499af07d390"
   },
   "outputs": [
    {
     "name": "stdout",
     "output_type": "stream",
     "text": [
      "Model performance for SVC\n",
      "\n",
      "Accuracy Score Train : 0.76\n",
      "Accuracy Score Validation : 0.71\n",
      "Accuracy Score Test : 0.72\n",
      "\n",
      "Precision Score Train : 0.76\n",
      "Precision Score Validation : 0.57\n",
      "Precision Score Test : 0.69\n",
      "\n",
      "recall Score Train : 0.44\n",
      "recall Score Validation : 0.48\n",
      "recal Score Test : 0.5\n",
      "\n",
      "f1 Score Train : 0.56\n",
      "f1 Score Validation : 0.52\n",
      "f1 Score Test : 0.58\n",
      "\n"
     ]
    },
    {
     "data": {
      "image/png": "[encoded data removed]",
      "text/plain": [
       "<Figure size 216x216 with 2 Axes>"
      ]
     },
     "metadata": {
      "needs_background": "light"
     },
     "output_type": "display_data"
    }
   ],
   "source": [
    "svc = evaluate_classification_model(model2, 'SVC',X_train,y_train,X_test,y_test,X_val,y_val)"
   ]
  },
  {
   "cell_type": "code",
   "execution_count": 65,
   "metadata": {
    "id": "EeZuLt8SzN9d"
   },
   "outputs": [],
   "source": [
    "model_performance = [[\"Logistic Regression\",lg[0],lg[1],lg[2],lg[3],lg[4],lg[5],lg[6],lg[7],lg[8],lg[9],lg[10],lg[11]],\n",
    "                     [\"Support Vector Machine\",svc[0],svc[1],svc[2],svc[3],svc[4],svc[5],svc[6],svc[7],svc[8],svc[9],svc[10],svc[11]]]"
   ]
  },
  {
   "cell_type": "code",
   "execution_count": 66,
   "metadata": {
    "id": "vEUew145zNvL"
   },
   "outputs": [],
   "source": [
    "model_performance = pd.DataFrame(model_performance,columns = [\"Model Name\",\"Accuracy Score Train\",\"Accuracy Score Validation\",\"Accuracy Score Test\",\"Precision Score Train\",\"Precision Score Validation\",\"Precision Score Test\",\"Recall Score Train\",\"Recall Score Validation\",\"Recall Score Test\",\"F1 Score Train\",\"F1 Score Validation\",\"F1 Score Test\"])"
   ]
  },
  {
   "cell_type": "code",
   "execution_count": 67,
   "metadata": {
    "colab": {
     "base_uri": "https://localhost:8080/",
     "height": 243
    },
    "id": "AaiAMjNn1QcD",
    "outputId": "d2838c7e-4b5f-4c9a-d1fc-af84a61e9675"
   },
   "outputs": [
    {
     "data": {
      "text/html": [
       "<div>\n",
       "<style scoped>\n",
       "    .dataframe tbody tr th:only-of-type {\n",
       "        vertical-align: middle;\n",
       "    }\n",
       "\n",
       "    .dataframe tbody tr th {\n",
       "        vertical-align: top;\n",
       "    }\n",
       "\n",
       "    .dataframe thead th {\n",
       "        text-align: right;\n",
       "    }\n",
       "</style>\n",
       "<table border=\"1\" class=\"dataframe\">\n",
       "  <thead>\n",
       "    <tr style=\"text-align: right;\">\n",
       "      <th></th>\n",
       "      <th>Model Name</th>\n",
       "      <th>Accuracy Score Train</th>\n",
       "      <th>Accuracy Score Validation</th>\n",
       "      <th>Accuracy Score Test</th>\n",
       "      <th>Precision Score Train</th>\n",
       "      <th>Precision Score Validation</th>\n",
       "      <th>Precision Score Test</th>\n",
       "      <th>Recall Score Train</th>\n",
       "      <th>Recall Score Validation</th>\n",
       "      <th>Recall Score Test</th>\n",
       "      <th>F1 Score Train</th>\n",
       "      <th>F1 Score Validation</th>\n",
       "      <th>F1 Score Test</th>\n",
       "    </tr>\n",
       "  </thead>\n",
       "  <tbody>\n",
       "    <tr>\n",
       "      <th>0</th>\n",
       "      <td>Logistic Regression</td>\n",
       "      <td>0.76</td>\n",
       "      <td>0.71</td>\n",
       "      <td>0.72</td>\n",
       "      <td>0.72</td>\n",
       "      <td>0.57</td>\n",
       "      <td>0.67</td>\n",
       "      <td>0.48</td>\n",
       "      <td>0.48</td>\n",
       "      <td>0.5</td>\n",
       "      <td>0.58</td>\n",
       "      <td>0.52</td>\n",
       "      <td>0.57</td>\n",
       "    </tr>\n",
       "    <tr>\n",
       "      <th>1</th>\n",
       "      <td>Support Vector Machine</td>\n",
       "      <td>0.76</td>\n",
       "      <td>0.71</td>\n",
       "      <td>0.72</td>\n",
       "      <td>0.76</td>\n",
       "      <td>0.57</td>\n",
       "      <td>0.69</td>\n",
       "      <td>0.44</td>\n",
       "      <td>0.48</td>\n",
       "      <td>0.5</td>\n",
       "      <td>0.56</td>\n",
       "      <td>0.52</td>\n",
       "      <td>0.58</td>\n",
       "    </tr>\n",
       "  </tbody>\n",
       "</table>\n",
       "</div>"
      ],
      "text/plain": [
       "               Model Name  Accuracy Score Train  Accuracy Score Validation  \\\n",
       "0     Logistic Regression                  0.76                       0.71   \n",
       "1  Support Vector Machine                  0.76                       0.71   \n",
       "\n",
       "   Accuracy Score Test  Precision Score Train  Precision Score Validation  \\\n",
       "0                 0.72                   0.72                        0.57   \n",
       "1                 0.72                   0.76                        0.57   \n",
       "\n",
       "   Precision Score Test  Recall Score Train  Recall Score Validation  \\\n",
       "0                  0.67                0.48                     0.48   \n",
       "1                  0.69                0.44                     0.48   \n",
       "\n",
       "   Recall Score Test  F1 Score Train  F1 Score Validation  F1 Score Test  \n",
       "0                0.5            0.58                 0.52           0.57  \n",
       "1                0.5            0.56                 0.52           0.58  "
      ]
     },
     "execution_count": 67,
     "metadata": {},
     "output_type": "execute_result"
    }
   ],
   "source": [
    "model_performance"
   ]
  },
  {
   "cell_type": "markdown",
   "metadata": {
    "id": "zzCy1opm1d-t"
   },
   "source": [
    "Now, use all positive related features."
   ]
  },
  {
   "cell_type": "code",
   "execution_count": 68,
   "metadata": {
    "id": "lhnFwmYD1QVH"
   },
   "outputs": [],
   "source": [
    "X1 = D_df2[[\"Glucose\", \"BMI\", \"Age\", \"Pregnancies\", \"DiabetesPedigreeFunction\"]]\n",
    "y1 = D_df2[['Outcome']]"
   ]
  },
  {
   "cell_type": "code",
   "execution_count": 69,
   "metadata": {
    "id": "W7LwQ0bK1QQU"
   },
   "outputs": [],
   "source": [
    "X_train1, X_temp1, y_train1, y_temp1 = train_test_split(X1, y1, test_size=0.25, random_state=42)\n",
    "X_val1, X_test1, y_val1, y_test1 = train_test_split(X_temp1, y_temp1, test_size=0.6, random_state=42)"
   ]
  },
  {
   "cell_type": "code",
   "execution_count": 70,
   "metadata": {
    "colab": {
     "base_uri": "https://localhost:8080/",
     "height": 75
    },
    "id": "cz_KOYVu1QJr",
    "outputId": "bee8289d-7bad-42fd-d137-0fb72e0c57b1"
   },
   "outputs": [
    {
     "data": {
      "text/plain": [
       "LogisticRegression(random_state=42)"
      ]
     },
     "execution_count": 70,
     "metadata": {},
     "output_type": "execute_result"
    }
   ],
   "source": [
    "model11 = LogisticRegression(random_state=42)\n",
    "model11.fit(X_train1, y_train1)"
   ]
  },
  {
   "cell_type": "code",
   "execution_count": 71,
   "metadata": {
    "colab": {
     "base_uri": "https://localhost:8080/",
     "height": 626
    },
    "id": "pEBYfEci1P5n",
    "outputId": "5fb08a1b-a231-40dc-e7d6-99047f05a23c"
   },
   "outputs": [
    {
     "name": "stdout",
     "output_type": "stream",
     "text": [
      "Model performance for Logistic Regression\n",
      "\n",
      "Accuracy Score Train : 0.77\n",
      "Accuracy Score Validation : 0.72\n",
      "Accuracy Score Test : 0.73\n",
      "\n",
      "Precision Score Train : 0.72\n",
      "Precision Score Validation : 0.58\n",
      "Precision Score Test : 0.66\n",
      "\n",
      "recall Score Train : 0.57\n",
      "recall Score Validation : 0.56\n",
      "recal Score Test : 0.61\n",
      "\n",
      "f1 Score Train : 0.64\n",
      "f1 Score Validation : 0.57\n",
      "f1 Score Test : 0.64\n",
      "\n"
     ]
    },
    {
     "data": {
      "image/png": "[encoded data removed]",
      "text/plain": [
       "<Figure size 216x216 with 2 Axes>"
      ]
     },
     "metadata": {
      "needs_background": "light"
     },
     "output_type": "display_data"
    }
   ],
   "source": [
    "lg1 = evaluate_classification_model(model11, 'Logistic Regression',X_train1,y_train1,X_test1,y_test1,X_val1,y_val1)"
   ]
  },
  {
   "cell_type": "code",
   "execution_count": 72,
   "metadata": {
    "colab": {
     "base_uri": "https://localhost:8080/",
     "height": 75
    },
    "id": "UcqRWJIn2XPF",
    "outputId": "4ac0592f-f061-422c-ae7f-ddba130ce6eb"
   },
   "outputs": [
    {
     "data": {
      "text/plain": [
       "SVC(kernel='linear', random_state=42)"
      ]
     },
     "execution_count": 72,
     "metadata": {},
     "output_type": "execute_result"
    }
   ],
   "source": [
    "model21 = SVC(kernel='linear', random_state=42)\n",
    "model21.fit(X_train1, y_train1)"
   ]
  },
  {
   "cell_type": "code",
   "execution_count": 73,
   "metadata": {
    "colab": {
     "base_uri": "https://localhost:8080/",
     "height": 626
    },
    "id": "QjcYKwje2XK8",
    "outputId": "438437b6-c72f-481e-c4c7-f6366bc03d24"
   },
   "outputs": [
    {
     "name": "stdout",
     "output_type": "stream",
     "text": [
      "Model performance for SVC\n",
      "\n",
      "Accuracy Score Train : 0.77\n",
      "Accuracy Score Validation : 0.72\n",
      "Accuracy Score Test : 0.73\n",
      "\n",
      "Precision Score Train : 0.71\n",
      "Precision Score Validation : 0.58\n",
      "Precision Score Test : 0.66\n",
      "\n",
      "recall Score Train : 0.58\n",
      "recall Score Validation : 0.56\n",
      "recal Score Test : 0.61\n",
      "\n",
      "f1 Score Train : 0.64\n",
      "f1 Score Validation : 0.57\n",
      "f1 Score Test : 0.64\n",
      "\n"
     ]
    },
    {
     "data": {
      "image/png": "[encoded data removed]",
      "text/plain": [
       "<Figure size 216x216 with 2 Axes>"
      ]
     },
     "metadata": {
      "needs_background": "light"
     },
     "output_type": "display_data"
    }
   ],
   "source": [
    "\n",
    "svc1 = evaluate_classification_model(model21, 'SVC',X_train1,y_train1,X_test1,y_test1,X_val1,y_val1)"
   ]
  },
  {
   "cell_type": "code",
   "execution_count": 74,
   "metadata": {
    "id": "97S8fUOy2XGG"
   },
   "outputs": [],
   "source": [
    "model_performance1 = [[\"Logistic Regression\",lg1[0],lg1[1],lg1[2],lg1[3],lg1[4],lg1[5],lg1[6],lg1[7],lg1[8],lg1[9],lg1[10],lg1[11]],\n",
    "                     [\"Support Vector Machine\",svc1[0],svc1[1],svc1[2],svc1[3],svc1[4],svc1[5],svc1[6],svc1[7],svc1[8],svc1[9],svc1[10],svc1[11]]]"
   ]
  },
  {
   "cell_type": "code",
   "execution_count": 75,
   "metadata": {
    "id": "IIGNY8Oz2pR0"
   },
   "outputs": [],
   "source": [
    "model_performance1 = pd.DataFrame(model_performance1,columns = [\"Model Name\",\"Accuracy Score Train\",\"Accuracy Score Validation\",\"Accuracy Score Test\",\"Precision Score Train\",\"Precision Score Validation\",\"Precision Score Test\",\"Recall Score Train\",\"Recall Score Validation\",\"Recall Score Test\",\"F1 Score Train\",\"F1 Score Validation\",\"F1 Score Test\"])"
   ]
  },
  {
   "cell_type": "code",
   "execution_count": 76,
   "metadata": {
    "colab": {
     "base_uri": "https://localhost:8080/",
     "height": 243
    },
    "id": "8jnOHKDz2o8f",
    "outputId": "5959d631-b7ae-435d-beba-eba103af1f26"
   },
   "outputs": [
    {
     "data": {
      "text/html": [
       "<div>\n",
       "<style scoped>\n",
       "    .dataframe tbody tr th:only-of-type {\n",
       "        vertical-align: middle;\n",
       "    }\n",
       "\n",
       "    .dataframe tbody tr th {\n",
       "        vertical-align: top;\n",
       "    }\n",
       "\n",
       "    .dataframe thead th {\n",
       "        text-align: right;\n",
       "    }\n",
       "</style>\n",
       "<table border=\"1\" class=\"dataframe\">\n",
       "  <thead>\n",
       "    <tr style=\"text-align: right;\">\n",
       "      <th></th>\n",
       "      <th>Model Name</th>\n",
       "      <th>Accuracy Score Train</th>\n",
       "      <th>Accuracy Score Validation</th>\n",
       "      <th>Accuracy Score Test</th>\n",
       "      <th>Precision Score Train</th>\n",
       "      <th>Precision Score Validation</th>\n",
       "      <th>Precision Score Test</th>\n",
       "      <th>Recall Score Train</th>\n",
       "      <th>Recall Score Validation</th>\n",
       "      <th>Recall Score Test</th>\n",
       "      <th>F1 Score Train</th>\n",
       "      <th>F1 Score Validation</th>\n",
       "      <th>F1 Score Test</th>\n",
       "    </tr>\n",
       "  </thead>\n",
       "  <tbody>\n",
       "    <tr>\n",
       "      <th>0</th>\n",
       "      <td>Logistic Regression</td>\n",
       "      <td>0.77</td>\n",
       "      <td>0.72</td>\n",
       "      <td>0.73</td>\n",
       "      <td>0.72</td>\n",
       "      <td>0.58</td>\n",
       "      <td>0.66</td>\n",
       "      <td>0.57</td>\n",
       "      <td>0.56</td>\n",
       "      <td>0.61</td>\n",
       "      <td>0.64</td>\n",
       "      <td>0.57</td>\n",
       "      <td>0.64</td>\n",
       "    </tr>\n",
       "    <tr>\n",
       "      <th>1</th>\n",
       "      <td>Support Vector Machine</td>\n",
       "      <td>0.77</td>\n",
       "      <td>0.72</td>\n",
       "      <td>0.73</td>\n",
       "      <td>0.71</td>\n",
       "      <td>0.58</td>\n",
       "      <td>0.66</td>\n",
       "      <td>0.58</td>\n",
       "      <td>0.56</td>\n",
       "      <td>0.61</td>\n",
       "      <td>0.64</td>\n",
       "      <td>0.57</td>\n",
       "      <td>0.64</td>\n",
       "    </tr>\n",
       "  </tbody>\n",
       "</table>\n",
       "</div>"
      ],
      "text/plain": [
       "               Model Name  Accuracy Score Train  Accuracy Score Validation  \\\n",
       "0     Logistic Regression                  0.77                       0.72   \n",
       "1  Support Vector Machine                  0.77                       0.72   \n",
       "\n",
       "   Accuracy Score Test  Precision Score Train  Precision Score Validation  \\\n",
       "0                 0.73                   0.72                        0.58   \n",
       "1                 0.73                   0.71                        0.58   \n",
       "\n",
       "   Precision Score Test  Recall Score Train  Recall Score Validation  \\\n",
       "0                  0.66                0.57                     0.56   \n",
       "1                  0.66                0.58                     0.56   \n",
       "\n",
       "   Recall Score Test  F1 Score Train  F1 Score Validation  F1 Score Test  \n",
       "0               0.61            0.64                 0.57           0.64  \n",
       "1               0.61            0.64                 0.57           0.64  "
      ]
     },
     "execution_count": 76,
     "metadata": {},
     "output_type": "execute_result"
    }
   ],
   "source": [
    "# Models perfomance when use all positively related features\n",
    "model_performance1"
   ]
  },
  {
   "cell_type": "code",
   "execution_count": 77,
   "metadata": {
    "colab": {
     "base_uri": "https://localhost:8080/",
     "height": 243
    },
    "id": "NXP6ucBn2os6",
    "outputId": "af47f26f-6646-414a-86b5-d9962fa33705"
   },
   "outputs": [
    {
     "data": {
      "text/html": [
       "<div>\n",
       "<style scoped>\n",
       "    .dataframe tbody tr th:only-of-type {\n",
       "        vertical-align: middle;\n",
       "    }\n",
       "\n",
       "    .dataframe tbody tr th {\n",
       "        vertical-align: top;\n",
       "    }\n",
       "\n",
       "    .dataframe thead th {\n",
       "        text-align: right;\n",
       "    }\n",
       "</style>\n",
       "<table border=\"1\" class=\"dataframe\">\n",
       "  <thead>\n",
       "    <tr style=\"text-align: right;\">\n",
       "      <th></th>\n",
       "      <th>Model Name</th>\n",
       "      <th>Accuracy Score Train</th>\n",
       "      <th>Accuracy Score Validation</th>\n",
       "      <th>Accuracy Score Test</th>\n",
       "      <th>Precision Score Train</th>\n",
       "      <th>Precision Score Validation</th>\n",
       "      <th>Precision Score Test</th>\n",
       "      <th>Recall Score Train</th>\n",
       "      <th>Recall Score Validation</th>\n",
       "      <th>Recall Score Test</th>\n",
       "      <th>F1 Score Train</th>\n",
       "      <th>F1 Score Validation</th>\n",
       "      <th>F1 Score Test</th>\n",
       "    </tr>\n",
       "  </thead>\n",
       "  <tbody>\n",
       "    <tr>\n",
       "      <th>0</th>\n",
       "      <td>Logistic Regression</td>\n",
       "      <td>0.76</td>\n",
       "      <td>0.71</td>\n",
       "      <td>0.72</td>\n",
       "      <td>0.72</td>\n",
       "      <td>0.57</td>\n",
       "      <td>0.67</td>\n",
       "      <td>0.48</td>\n",
       "      <td>0.48</td>\n",
       "      <td>0.5</td>\n",
       "      <td>0.58</td>\n",
       "      <td>0.52</td>\n",
       "      <td>0.57</td>\n",
       "    </tr>\n",
       "    <tr>\n",
       "      <th>1</th>\n",
       "      <td>Support Vector Machine</td>\n",
       "      <td>0.76</td>\n",
       "      <td>0.71</td>\n",
       "      <td>0.72</td>\n",
       "      <td>0.76</td>\n",
       "      <td>0.57</td>\n",
       "      <td>0.69</td>\n",
       "      <td>0.44</td>\n",
       "      <td>0.48</td>\n",
       "      <td>0.5</td>\n",
       "      <td>0.56</td>\n",
       "      <td>0.52</td>\n",
       "      <td>0.58</td>\n",
       "    </tr>\n",
       "  </tbody>\n",
       "</table>\n",
       "</div>"
      ],
      "text/plain": [
       "               Model Name  Accuracy Score Train  Accuracy Score Validation  \\\n",
       "0     Logistic Regression                  0.76                       0.71   \n",
       "1  Support Vector Machine                  0.76                       0.71   \n",
       "\n",
       "   Accuracy Score Test  Precision Score Train  Precision Score Validation  \\\n",
       "0                 0.72                   0.72                        0.57   \n",
       "1                 0.72                   0.76                        0.57   \n",
       "\n",
       "   Precision Score Test  Recall Score Train  Recall Score Validation  \\\n",
       "0                  0.67                0.48                     0.48   \n",
       "1                  0.69                0.44                     0.48   \n",
       "\n",
       "   Recall Score Test  F1 Score Train  F1 Score Validation  F1 Score Test  \n",
       "0                0.5            0.58                 0.52           0.57  \n",
       "1                0.5            0.56                 0.52           0.58  "
      ]
     },
     "execution_count": 77,
     "metadata": {},
     "output_type": "execute_result"
    }
   ],
   "source": [
    "# Models perfomance when use only \"Glucose\"\n",
    "model_performance"
   ]
  },
  {
   "cell_type": "markdown",
   "metadata": {
    "id": "v9noWAUv3RB5"
   },
   "source": [
    "Cleary, We can see that when we use only \"Glucose\" we get best accuracy."
   ]
  },
  {
   "cell_type": "markdown",
   "metadata": {
    "id": "SxVktFbWOqdh"
   },
   "source": [
    "# **3. 50_Startup**"
   ]
  },
  {
   "cell_type": "markdown",
   "metadata": {
    "id": "QEigD72-PIpj"
   },
   "source": [
    "### **1. Load Data and check if the data has missing value**"
   ]
  },
  {
   "cell_type": "code",
   "execution_count": 78,
   "metadata": {
    "id": "nQJeFI63QmdD"
   },
   "outputs": [],
   "source": [
    "Startup_df = pd.read_csv('A01_50_Startups.csv')"
   ]
  },
  {
   "cell_type": "code",
   "execution_count": 79,
   "metadata": {
    "colab": {
     "base_uri": "https://localhost:8080/"
    },
    "id": "BfQvn6wBQnkp",
    "outputId": "b99ba41b-1ff6-473f-f92f-edf6c941ea3d"
   },
   "outputs": [
    {
     "name": "stdout",
     "output_type": "stream",
     "text": [
      "50_startup shape :  (50, 5)\n"
     ]
    }
   ],
   "source": [
    "print('50_startup shape : ', Startup_df.shape)"
   ]
  },
  {
   "cell_type": "code",
   "execution_count": 80,
   "metadata": {
    "colab": {
     "base_uri": "https://localhost:8080/"
    },
    "id": "a4TBgSaiEJ7o",
    "outputId": "dd0f021a-07db-4311-9892-2c4cae4134d7"
   },
   "outputs": [
    {
     "name": "stdout",
     "output_type": "stream",
     "text": [
      "Columns of 50_startup :  Index(['R&D Spend', 'Administration', 'Marketing Spend', 'State', 'Profit'], dtype='object')\n"
     ]
    }
   ],
   "source": [
    "print('Columns of 50_startup : ', Startup_df.columns)"
   ]
  },
  {
   "cell_type": "code",
   "execution_count": 81,
   "metadata": {
    "colab": {
     "base_uri": "https://localhost:8080/"
    },
    "id": "rk99phU0Dwv0",
    "outputId": "e405a8ed-0836-4c05-8f23-7baece7ace34"
   },
   "outputs": [
    {
     "name": "stdout",
     "output_type": "stream",
     "text": [
      "<class 'pandas.core.frame.DataFrame'>\n",
      "RangeIndex: 50 entries, 0 to 49\n",
      "Data columns (total 5 columns):\n",
      " #   Column           Non-Null Count  Dtype  \n",
      "---  ------           --------------  -----  \n",
      " 0   R&D Spend        50 non-null     float64\n",
      " 1   Administration   50 non-null     float64\n",
      " 2   Marketing Spend  50 non-null     float64\n",
      " 3   State            50 non-null     object \n",
      " 4   Profit           50 non-null     float64\n",
      "dtypes: float64(4), object(1)\n",
      "memory usage: 2.1+ KB\n"
     ]
    }
   ],
   "source": [
    "# Basic Information\n",
    "Startup_df.info()"
   ]
  },
  {
   "cell_type": "code",
   "execution_count": 82,
   "metadata": {
    "colab": {
     "base_uri": "https://localhost:8080/",
     "height": 206
    },
    "id": "vM3j04sjDwzN",
    "outputId": "2b474d55-bf8b-46dc-e24a-00f945ab9388"
   },
   "outputs": [
    {
     "data": {
      "text/html": [
       "<div>\n",
       "<style scoped>\n",
       "    .dataframe tbody tr th:only-of-type {\n",
       "        vertical-align: middle;\n",
       "    }\n",
       "\n",
       "    .dataframe tbody tr th {\n",
       "        vertical-align: top;\n",
       "    }\n",
       "\n",
       "    .dataframe thead th {\n",
       "        text-align: right;\n",
       "    }\n",
       "</style>\n",
       "<table border=\"1\" class=\"dataframe\">\n",
       "  <thead>\n",
       "    <tr style=\"text-align: right;\">\n",
       "      <th></th>\n",
       "      <th>R&amp;D Spend</th>\n",
       "      <th>Administration</th>\n",
       "      <th>Marketing Spend</th>\n",
       "      <th>State</th>\n",
       "      <th>Profit</th>\n",
       "    </tr>\n",
       "  </thead>\n",
       "  <tbody>\n",
       "    <tr>\n",
       "      <th>0</th>\n",
       "      <td>165349.20</td>\n",
       "      <td>136897.80</td>\n",
       "      <td>471784.10</td>\n",
       "      <td>New York</td>\n",
       "      <td>192261.83</td>\n",
       "    </tr>\n",
       "    <tr>\n",
       "      <th>1</th>\n",
       "      <td>162597.70</td>\n",
       "      <td>151377.59</td>\n",
       "      <td>443898.53</td>\n",
       "      <td>California</td>\n",
       "      <td>191792.06</td>\n",
       "    </tr>\n",
       "    <tr>\n",
       "      <th>2</th>\n",
       "      <td>153441.51</td>\n",
       "      <td>101145.55</td>\n",
       "      <td>407934.54</td>\n",
       "      <td>Florida</td>\n",
       "      <td>191050.39</td>\n",
       "    </tr>\n",
       "    <tr>\n",
       "      <th>3</th>\n",
       "      <td>144372.41</td>\n",
       "      <td>118671.85</td>\n",
       "      <td>383199.62</td>\n",
       "      <td>New York</td>\n",
       "      <td>182901.99</td>\n",
       "    </tr>\n",
       "    <tr>\n",
       "      <th>4</th>\n",
       "      <td>142107.34</td>\n",
       "      <td>91391.77</td>\n",
       "      <td>366168.42</td>\n",
       "      <td>Florida</td>\n",
       "      <td>166187.94</td>\n",
       "    </tr>\n",
       "  </tbody>\n",
       "</table>\n",
       "</div>"
      ],
      "text/plain": [
       "   R&D Spend  Administration  Marketing Spend       State     Profit\n",
       "0  165349.20       136897.80        471784.10    New York  192261.83\n",
       "1  162597.70       151377.59        443898.53  California  191792.06\n",
       "2  153441.51       101145.55        407934.54     Florida  191050.39\n",
       "3  144372.41       118671.85        383199.62    New York  182901.99\n",
       "4  142107.34        91391.77        366168.42     Florida  166187.94"
      ]
     },
     "execution_count": 82,
     "metadata": {},
     "output_type": "execute_result"
    }
   ],
   "source": [
    "# Preview of Data\n",
    "Startup_df.head()"
   ]
  },
  {
   "cell_type": "code",
   "execution_count": 83,
   "metadata": {
    "colab": {
     "base_uri": "https://localhost:8080/"
    },
    "id": "CY7hDbYhDwtE",
    "outputId": "6a823b00-7ceb-4bbf-a92c-ad6785a42f9c"
   },
   "outputs": [
    {
     "data": {
      "text/plain": [
       "R&D Spend          0\n",
       "Administration     0\n",
       "Marketing Spend    0\n",
       "State              0\n",
       "Profit             0\n",
       "dtype: int64"
      ]
     },
     "execution_count": 83,
     "metadata": {},
     "output_type": "execute_result"
    }
   ],
   "source": [
    "# Check for missing values\n",
    "Startup_df.isna().sum()"
   ]
  },
  {
   "cell_type": "markdown",
   "metadata": {
    "id": "wR1MnwxcGKVC"
   },
   "source": [
    "In Startup_df, No missing values so no need to fill"
   ]
  },
  {
   "cell_type": "markdown",
   "metadata": {
    "id": "-p4T_jv-PXeL"
   },
   "source": [
    "### **2. Identify which features need to be encoded and encode them**"
   ]
  },
  {
   "cell_type": "code",
   "execution_count": 84,
   "metadata": {
    "id": "7jXm_oq0GVfV"
   },
   "outputs": [],
   "source": [
    "# Make a copy of data\n",
    "Startup_df1 = Startup_df.copy()"
   ]
  },
  {
   "cell_type": "code",
   "execution_count": 85,
   "metadata": {
    "colab": {
     "base_uri": "https://localhost:8080/"
    },
    "id": "5ap_Ht_uGVTZ",
    "outputId": "fbdcd422-e1be-4793-9660-8d18825adac2"
   },
   "outputs": [
    {
     "name": "stdout",
     "output_type": "stream",
     "text": [
      "<class 'pandas.core.frame.DataFrame'>\n",
      "RangeIndex: 50 entries, 0 to 49\n",
      "Data columns (total 5 columns):\n",
      " #   Column           Non-Null Count  Dtype  \n",
      "---  ------           --------------  -----  \n",
      " 0   R&D Spend        50 non-null     float64\n",
      " 1   Administration   50 non-null     float64\n",
      " 2   Marketing Spend  50 non-null     float64\n",
      " 3   State            50 non-null     object \n",
      " 4   Profit           50 non-null     float64\n",
      "dtypes: float64(4), object(1)\n",
      "memory usage: 2.1+ KB\n"
     ]
    }
   ],
   "source": [
    "Startup_df1.info()"
   ]
  },
  {
   "cell_type": "code",
   "execution_count": 86,
   "metadata": {
    "colab": {
     "base_uri": "https://localhost:8080/"
    },
    "id": "eWnATwfiGX7T",
    "outputId": "683229f4-72df-4829-edb4-6761c1053542"
   },
   "outputs": [
    {
     "data": {
      "text/plain": [
       "array(['New York', 'California', 'Florida'], dtype=object)"
      ]
     },
     "execution_count": 86,
     "metadata": {},
     "output_type": "execute_result"
    }
   ],
   "source": [
    "Startup_df1['State'].unique()"
   ]
  },
  {
   "cell_type": "markdown",
   "metadata": {
    "id": "4wgwIHU32coA"
   },
   "source": [
    "Converting categorical variable(State) into corresponding form using one-hot encoding because there are only three distinct values."
   ]
  },
  {
   "cell_type": "code",
   "execution_count": 87,
   "metadata": {
    "colab": {
     "base_uri": "https://localhost:8080/",
     "height": 206
    },
    "id": "U4Vm8TQq2Z3y",
    "outputId": "697d4e55-81ae-4f68-f6ff-e95714e3a595"
   },
   "outputs": [
    {
     "data": {
      "text/html": [
       "<div>\n",
       "<style scoped>\n",
       "    .dataframe tbody tr th:only-of-type {\n",
       "        vertical-align: middle;\n",
       "    }\n",
       "\n",
       "    .dataframe tbody tr th {\n",
       "        vertical-align: top;\n",
       "    }\n",
       "\n",
       "    .dataframe thead th {\n",
       "        text-align: right;\n",
       "    }\n",
       "</style>\n",
       "<table border=\"1\" class=\"dataframe\">\n",
       "  <thead>\n",
       "    <tr style=\"text-align: right;\">\n",
       "      <th></th>\n",
       "      <th>R&amp;D Spend</th>\n",
       "      <th>Administration</th>\n",
       "      <th>Marketing Spend</th>\n",
       "      <th>Profit</th>\n",
       "      <th>State_California</th>\n",
       "      <th>State_Florida</th>\n",
       "      <th>State_New York</th>\n",
       "    </tr>\n",
       "  </thead>\n",
       "  <tbody>\n",
       "    <tr>\n",
       "      <th>0</th>\n",
       "      <td>165349.20</td>\n",
       "      <td>136897.80</td>\n",
       "      <td>471784.10</td>\n",
       "      <td>192261.83</td>\n",
       "      <td>0</td>\n",
       "      <td>0</td>\n",
       "      <td>1</td>\n",
       "    </tr>\n",
       "    <tr>\n",
       "      <th>1</th>\n",
       "      <td>162597.70</td>\n",
       "      <td>151377.59</td>\n",
       "      <td>443898.53</td>\n",
       "      <td>191792.06</td>\n",
       "      <td>1</td>\n",
       "      <td>0</td>\n",
       "      <td>0</td>\n",
       "    </tr>\n",
       "    <tr>\n",
       "      <th>2</th>\n",
       "      <td>153441.51</td>\n",
       "      <td>101145.55</td>\n",
       "      <td>407934.54</td>\n",
       "      <td>191050.39</td>\n",
       "      <td>0</td>\n",
       "      <td>1</td>\n",
       "      <td>0</td>\n",
       "    </tr>\n",
       "    <tr>\n",
       "      <th>3</th>\n",
       "      <td>144372.41</td>\n",
       "      <td>118671.85</td>\n",
       "      <td>383199.62</td>\n",
       "      <td>182901.99</td>\n",
       "      <td>0</td>\n",
       "      <td>0</td>\n",
       "      <td>1</td>\n",
       "    </tr>\n",
       "    <tr>\n",
       "      <th>4</th>\n",
       "      <td>142107.34</td>\n",
       "      <td>91391.77</td>\n",
       "      <td>366168.42</td>\n",
       "      <td>166187.94</td>\n",
       "      <td>0</td>\n",
       "      <td>1</td>\n",
       "      <td>0</td>\n",
       "    </tr>\n",
       "  </tbody>\n",
       "</table>\n",
       "</div>"
      ],
      "text/plain": [
       "   R&D Spend  Administration  Marketing Spend     Profit  State_California  \\\n",
       "0  165349.20       136897.80        471784.10  192261.83                 0   \n",
       "1  162597.70       151377.59        443898.53  191792.06                 1   \n",
       "2  153441.51       101145.55        407934.54  191050.39                 0   \n",
       "3  144372.41       118671.85        383199.62  182901.99                 0   \n",
       "4  142107.34        91391.77        366168.42  166187.94                 0   \n",
       "\n",
       "   State_Florida  State_New York  \n",
       "0              0               1  \n",
       "1              0               0  \n",
       "2              1               0  \n",
       "3              0               1  \n",
       "4              1               0  "
      ]
     },
     "execution_count": 87,
     "metadata": {},
     "output_type": "execute_result"
    }
   ],
   "source": [
    "Startup_df2 = pd.get_dummies(Startup_df1, columns=['State'], prefix=['State'])\n",
    "Startup_df2.head()"
   ]
  },
  {
   "cell_type": "markdown",
   "metadata": {
    "id": "gwOTR6NQPkU5"
   },
   "source": [
    "### **3. Identify which features to normalize and normalize them**"
   ]
  },
  {
   "cell_type": "code",
   "execution_count": 88,
   "metadata": {
    "colab": {
     "base_uri": "https://localhost:8080/",
     "height": 807
    },
    "id": "nd3vgvQ541vb",
    "outputId": "6e5e7342-9a45-485d-90e3-5655a7345aaa"
   },
   "outputs": [
    {
     "data": {
      "image/png": "[encoded data removed]",
      "text/plain": [
       "<Figure size 720x576 with 4 Axes>"
      ]
     },
     "metadata": {
      "needs_background": "light"
     },
     "output_type": "display_data"
    }
   ],
   "source": [
    "features = ['R&D Spend', 'Administration', 'Marketing Spend', 'Profit']\n",
    "row = len(features)//2 + len(features)%2\n",
    "col = 2\n",
    "fig, axes = plt.subplots(row, col, figsize=(10, 8))\n",
    "axes = axes.flatten()\n",
    "for i, feature in enumerate(features):\n",
    "    ax = axes[i]\n",
    "    sns.distplot(Startup_df2[feature], ax=ax)\n",
    "    ax.set_title(f\"Distribution of {feature}\")\n",
    "    ax.set_xlabel(\"Value\")\n",
    "    ax.set_ylabel(\"Density\")\n",
    "\n",
    "plt.tight_layout()\n",
    "plt.show()"
   ]
  },
  {
   "cell_type": "markdown",
   "metadata": {
    "id": "-i4rx3HxA6rI"
   },
   "source": [
    "Above all plots seem normal, so convert it into standard normal."
   ]
  },
  {
   "cell_type": "code",
   "execution_count": 89,
   "metadata": {
    "id": "4ecRjEb7AwmQ"
   },
   "outputs": [],
   "source": [
    "sc = StandardScaler()\n",
    "Startup_df2[\"R&D Spend\"] = sc.fit_transform(Startup_df2[\"R&D Spend\"].values.reshape(-1,1))"
   ]
  },
  {
   "cell_type": "code",
   "execution_count": 90,
   "metadata": {
    "id": "XF2Q8PS6Awe7"
   },
   "outputs": [],
   "source": [
    "Startup_df2[\"Administration\"] = sc.fit_transform(Startup_df2[\"Administration\"].values.reshape(-1,1))"
   ]
  },
  {
   "cell_type": "code",
   "execution_count": 91,
   "metadata": {
    "id": "CEyFyzq1AwY2"
   },
   "outputs": [],
   "source": [
    "Startup_df2[\"Marketing Spend\"] = sc.fit_transform(Startup_df2[\"Marketing Spend\"].values.reshape(-1,1))"
   ]
  },
  {
   "cell_type": "code",
   "execution_count": 92,
   "metadata": {
    "id": "15xLgfuSAwUz"
   },
   "outputs": [],
   "source": [
    "Startup_df2[\"Profit\"] = sc.fit_transform(Startup_df2[\"Profit\"].values.reshape(-1,1))"
   ]
  },
  {
   "cell_type": "markdown",
   "metadata": {
    "id": "LVV0yoBxP2jR"
   },
   "source": [
    "### **4. Identify whether the given task is of classification of regression**"
   ]
  },
  {
   "cell_type": "code",
   "execution_count": 93,
   "metadata": {
    "colab": {
     "base_uri": "https://localhost:8080/"
    },
    "id": "lPH_3itGC3dD",
    "outputId": "acdc3054-8316-4674-aceb-65d59872408c"
   },
   "outputs": [
    {
     "data": {
      "text/plain": [
       "Index(['R&D Spend', 'Administration', 'Marketing Spend', 'State', 'Profit'], dtype='object')"
      ]
     },
     "execution_count": 93,
     "metadata": {},
     "output_type": "execute_result"
    }
   ],
   "source": [
    "Startup_df1.columns"
   ]
  },
  {
   "cell_type": "markdown",
   "metadata": {
    "id": "kKtT3Iu3C2-L"
   },
   "source": [
    "Here target variable is \"Profit\", Hence our task is of regression."
   ]
  },
  {
   "cell_type": "code",
   "execution_count": 94,
   "metadata": {
    "colab": {
     "base_uri": "https://localhost:8080/",
     "height": 592
    },
    "id": "n_uWL3LsfYDu",
    "outputId": "aab74eaa-d80c-4ae3-b826-b9b7fd11ea3d"
   },
   "outputs": [
    {
     "data": {
      "image/png": "[encoded data removed]",
      "text/plain": [
       "<Figure size 1800x720 with 2 Axes>"
      ]
     },
     "metadata": {
      "needs_background": "light"
     },
     "output_type": "display_data"
    }
   ],
   "source": [
    "plt.figure(figsize = (25,10))\n",
    "sns.heatmap(Startup_df2.corr(),annot = True);"
   ]
  },
  {
   "cell_type": "markdown",
   "metadata": {
    "id": "BxAYTdRMEQGC"
   },
   "source": [
    "In above heatmap, We can see that \"R&D Spend\" and \"Marketing Spend\" are highly positive related to \"Profit\"."
   ]
  },
  {
   "cell_type": "markdown",
   "metadata": {
    "id": "rb4irFGTElK6"
   },
   "source": [
    "First try with only \"R&D Spend\"."
   ]
  },
  {
   "cell_type": "code",
   "execution_count": 95,
   "metadata": {
    "id": "YzgiQTMcEPjC"
   },
   "outputs": [],
   "source": [
    "X = Startup_df2[['R&D Spend']]\n",
    "y = Startup_df2[['Profit']]"
   ]
  },
  {
   "cell_type": "markdown",
   "metadata": {
    "id": "jtuEuH83P_rx"
   },
   "source": [
    "### **5. Split the data into train set (75%) validation set (10%) and test set (15%)**"
   ]
  },
  {
   "cell_type": "code",
   "execution_count": 96,
   "metadata": {
    "id": "TLhIEhuCEPc_"
   },
   "outputs": [],
   "source": [
    "X_train, X_temp, y_train, y_temp = train_test_split(X, y, test_size=0.25, random_state=42)\n",
    "X_val, X_test, y_val, y_test = train_test_split(X_temp, y_temp, test_size=0.6, random_state=42)"
   ]
  },
  {
   "cell_type": "markdown",
   "metadata": {
    "id": "HohJJIZTQLMt"
   },
   "source": [
    "### **6. Fit the data into 2 models of your choice**"
   ]
  },
  {
   "cell_type": "code",
   "execution_count": 97,
   "metadata": {
    "id": "bKd9AMe5L34a"
   },
   "outputs": [],
   "source": [
    "def evaluate_regression_model(model,model_name,x_train,y_train,x_test,y_test,x_valid,y_valid):\n",
    "\n",
    "    y_train_pred = model.predict(x_train)\n",
    "    y_test_pred = model.predict(x_test)\n",
    "    y_val_pred = model.predict(x_valid)\n",
    "\n",
    "    Training_Score = np.round(model.score(x_train,y_train),2)\n",
    "    Testing_Score = np.round(model.score(x_test,y_test),2)\n",
    "    Validation_score = np.round(model.score(x_valid,y_valid),2)\n",
    "\n",
    "    mse_training = np.round(mean_squared_error(y_train,y_train_pred),2)\n",
    "    mse_testing = np.round(mean_squared_error(y_test,y_test_pred),2)\n",
    "    mse_validation = np.round(mean_squared_error(y_valid,y_val_pred),2)\n",
    "\n",
    "    mae_training = np.round(mean_absolute_error(y_train,y_train_pred),2)\n",
    "    mae_testing = np.round(mean_absolute_error(y_test,y_test_pred),2)\n",
    "    mae_valid = np.round(mean_absolute_error(y_valid,y_val_pred),2)\n",
    "\n",
    "    r2_training = np.round(r2_score(y_train,y_train_pred),2)\n",
    "    r2_testing = np.round(r2_score(y_test,y_test_pred),2)\n",
    "    r2_valid = np.round(r2_score(y_valid,y_val_pred),2)\n",
    "\n",
    "\n",
    "    print(\"Model Performance for:\",model_name)\n",
    "    print(\"\")\n",
    "\n",
    "    print(\"Training Score:\",Training_Score)\n",
    "    print(\"Testing Score:\",Testing_Score)\n",
    "    print(\"Validation Score\",Validation_score)\n",
    "    print(\"\")\n",
    "\n",
    "    print(\"Training Data Mean Squared Error:\",mse_training)\n",
    "    print(\"Testing Data Mean Squared Error:\",mse_testing)\n",
    "    print(\"Validation Data Mean Squared Error:\",mse_validation)\n",
    "\n",
    "    print(\"\")\n",
    "\n",
    "    print(\"Training Data Mean Absolute Error:\",mae_training)\n",
    "    print(\"Testing Data Mean Absolute Error:\",mae_testing)\n",
    "    print(\"Validation Data Mean Absolute Error:\",mae_valid)\n",
    "    print(\"\")\n",
    "\n",
    "    print(\"Training Data r2_score:\",r2_training)\n",
    "    print(\"Testing Data r2_score:\",r2_testing)\n",
    "    print(\"Validation Data r2_score:\",r2_valid)\n",
    "    print(\"\")\n",
    "\n",
    "    print(\"Residual Analysis:\")\n",
    "    plt.figure(figsize = (20,5))\n",
    "    plt.scatter(y_train,(y_train-y_train_pred),color = \"red\",label = 'Training Predictions')\n",
    "    plt.scatter(y_test,(y_test-y_test_pred),color = \"green\",label = 'Testing Predictions')\n",
    "    plt.scatter(y_valid,(y_valid-y_val_pred),color = 'blue',label = \"Validation Predictions\")\n",
    "    plt.legend()\n",
    "    plt.show()\n",
    "\n",
    "\n",
    "    return Training_Score,Testing_Score,Validation_score,mse_training,mse_testing,mse_validation,mae_training,mae_testing,mae_valid,r2_training,r2_testing,r2_valid"
   ]
  },
  {
   "cell_type": "code",
   "execution_count": 98,
   "metadata": {
    "colab": {
     "base_uri": "https://localhost:8080/",
     "height": 75
    },
    "id": "DPYG-P_EJ00f",
    "outputId": "46254d26-fefd-4e0b-f9bc-d0398be53c10"
   },
   "outputs": [
    {
     "data": {
      "text/plain": [
       "LinearRegression()"
      ]
     },
     "execution_count": 98,
     "metadata": {},
     "output_type": "execute_result"
    }
   ],
   "source": [
    "model1 = LinearRegression()\n",
    "model1.fit(X_train,y_train)"
   ]
  },
  {
   "cell_type": "code",
   "execution_count": 99,
   "metadata": {
    "colab": {
     "base_uri": "https://localhost:8080/",
     "height": 677
    },
    "id": "CueNOZPzMRab",
    "outputId": "2b8a8356-f1d5-4dac-80d9-990ec5ddb976"
   },
   "outputs": [
    {
     "name": "stdout",
     "output_type": "stream",
     "text": [
      "Model Performance for: Linear Regression\n",
      "\n",
      "Training Score: 0.95\n",
      "Testing Score: 0.97\n",
      "Validation Score 0.86\n",
      "\n",
      "Training Data Mean Squared Error: 0.06\n",
      "Testing Data Mean Squared Error: 0.02\n",
      "Validation Data Mean Squared Error: 0.06\n",
      "\n",
      "Training Data Mean Absolute Error: 0.18\n",
      "Testing Data Mean Absolute Error: 0.11\n",
      "Validation Data Mean Absolute Error: 0.21\n",
      "\n",
      "Training Data r2_score: 0.95\n",
      "Testing Data r2_score: 0.97\n",
      "Validation Data r2_score: 0.86\n",
      "\n",
      "Residual Analysis:\n"
     ]
    },
    {
     "data": {
      "image/png": "[encoded data removed]",
      "text/plain": [
       "<Figure size 1440x360 with 1 Axes>"
      ]
     },
     "metadata": {
      "needs_background": "light"
     },
     "output_type": "display_data"
    }
   ],
   "source": [
    "lr = evaluate_regression_model(model1, 'Linear Regression', X_train, y_train, X_test, y_test, X_val, y_val)"
   ]
  },
  {
   "cell_type": "code",
   "execution_count": 100,
   "metadata": {
    "id": "51l9Zo0ePcwu"
   },
   "outputs": [],
   "source": [
    "poly = PolynomialFeatures(degree=4)\n",
    "X_train_poly = poly.fit_transform(X_train)\n",
    "X_test_poly = poly.fit_transform(X_test)\n",
    "X_val_poly = poly.fit_transform(X_val)"
   ]
  },
  {
   "cell_type": "code",
   "execution_count": 101,
   "metadata": {
    "colab": {
     "base_uri": "https://localhost:8080/",
     "height": 75
    },
    "id": "cO-85N-4P8Uj",
    "outputId": "d377ee9c-eceb-4441-fa90-5b3c7343bb30"
   },
   "outputs": [
    {
     "data": {
      "text/plain": [
       "LinearRegression()"
      ]
     },
     "execution_count": 101,
     "metadata": {},
     "output_type": "execute_result"
    }
   ],
   "source": [
    "model2 = LinearRegression()\n",
    "model2.fit(X_train_poly,y_train)"
   ]
  },
  {
   "cell_type": "code",
   "execution_count": 102,
   "metadata": {
    "colab": {
     "base_uri": "https://localhost:8080/",
     "height": 677
    },
    "id": "397Vzx5QPcGb",
    "outputId": "f9fc1d79-9fff-4c42-da05-7a11b31f5d23"
   },
   "outputs": [
    {
     "name": "stdout",
     "output_type": "stream",
     "text": [
      "Model Performance for: Polynomial Regression\n",
      "\n",
      "Training Score: 0.96\n",
      "Testing Score: 0.97\n",
      "Validation Score 0.67\n",
      "\n",
      "Training Data Mean Squared Error: 0.04\n",
      "Testing Data Mean Squared Error: 0.03\n",
      "Validation Data Mean Squared Error: 0.14\n",
      "\n",
      "Training Data Mean Absolute Error: 0.16\n",
      "Testing Data Mean Absolute Error: 0.14\n",
      "Validation Data Mean Absolute Error: 0.26\n",
      "\n",
      "Training Data r2_score: 0.96\n",
      "Testing Data r2_score: 0.97\n",
      "Validation Data r2_score: 0.67\n",
      "\n",
      "Residual Analysis:\n"
     ]
    },
    {
     "data": {
      "image/png": "[encoded data removed]",
      "text/plain": [
       "<Figure size 1440x360 with 1 Axes>"
      ]
     },
     "metadata": {
      "needs_background": "light"
     },
     "output_type": "display_data"
    }
   ],
   "source": [
    "pr = evaluate_regression_model(model2, \"Polynomial Regression\", X_train_poly, y_train, X_test_poly, y_test, X_val_poly, y_val)"
   ]
  },
  {
   "cell_type": "code",
   "execution_count": 103,
   "metadata": {
    "id": "aE8pSaU9OE6t"
   },
   "outputs": [],
   "source": [
    "models_performance = [[\"Linear Regression\",lr[0],lr[1],lr[2],lr[3],lr[4],lr[5],lr[6],lr[7],lr[8],lr[9],lr[10],lr[11]],\n",
    "                     [\"Polynomial Regression\",pr[0],pr[1],pr[2],pr[3],pr[4],pr[5],pr[6],pr[7],pr[8],pr[9],pr[10],pr[11]]]"
   ]
  },
  {
   "cell_type": "code",
   "execution_count": 104,
   "metadata": {
    "id": "h3uHeD4BaAi6"
   },
   "outputs": [],
   "source": [
    "models_performance = pd.DataFrame(models_performance,columns = [\"Model Name\",\"Training Score\",\"Testing Score\",\"Validation score\",\"mse training\",\"mse testing\",\"mse validation\",\"mae training\",\"mae testing\",\"mae valid\",\"r2 training\",\"r2 testing\",\"r2 valid\"])"
   ]
  },
  {
   "cell_type": "code",
   "execution_count": 105,
   "metadata": {
    "colab": {
     "base_uri": "https://localhost:8080/",
     "height": 191
    },
    "id": "owxSSwD2aNhk",
    "outputId": "04da73b3-d344-4af0-c94e-73f31ee2d917"
   },
   "outputs": [
    {
     "data": {
      "text/html": [
       "<div>\n",
       "<style scoped>\n",
       "    .dataframe tbody tr th:only-of-type {\n",
       "        vertical-align: middle;\n",
       "    }\n",
       "\n",
       "    .dataframe tbody tr th {\n",
       "        vertical-align: top;\n",
       "    }\n",
       "\n",
       "    .dataframe thead th {\n",
       "        text-align: right;\n",
       "    }\n",
       "</style>\n",
       "<table border=\"1\" class=\"dataframe\">\n",
       "  <thead>\n",
       "    <tr style=\"text-align: right;\">\n",
       "      <th></th>\n",
       "      <th>Model Name</th>\n",
       "      <th>Training Score</th>\n",
       "      <th>Testing Score</th>\n",
       "      <th>Validation score</th>\n",
       "      <th>mse training</th>\n",
       "      <th>mse testing</th>\n",
       "      <th>mse validation</th>\n",
       "      <th>mae training</th>\n",
       "      <th>mae testing</th>\n",
       "      <th>mae valid</th>\n",
       "      <th>r2 training</th>\n",
       "      <th>r2 testing</th>\n",
       "      <th>r2 valid</th>\n",
       "    </tr>\n",
       "  </thead>\n",
       "  <tbody>\n",
       "    <tr>\n",
       "      <th>0</th>\n",
       "      <td>Linear Regression</td>\n",
       "      <td>0.95</td>\n",
       "      <td>0.97</td>\n",
       "      <td>0.86</td>\n",
       "      <td>0.06</td>\n",
       "      <td>0.02</td>\n",
       "      <td>0.06</td>\n",
       "      <td>0.18</td>\n",
       "      <td>0.11</td>\n",
       "      <td>0.21</td>\n",
       "      <td>0.95</td>\n",
       "      <td>0.97</td>\n",
       "      <td>0.86</td>\n",
       "    </tr>\n",
       "    <tr>\n",
       "      <th>1</th>\n",
       "      <td>Polynomial Regression</td>\n",
       "      <td>0.96</td>\n",
       "      <td>0.97</td>\n",
       "      <td>0.67</td>\n",
       "      <td>0.04</td>\n",
       "      <td>0.03</td>\n",
       "      <td>0.14</td>\n",
       "      <td>0.16</td>\n",
       "      <td>0.14</td>\n",
       "      <td>0.26</td>\n",
       "      <td>0.96</td>\n",
       "      <td>0.97</td>\n",
       "      <td>0.67</td>\n",
       "    </tr>\n",
       "  </tbody>\n",
       "</table>\n",
       "</div>"
      ],
      "text/plain": [
       "              Model Name  Training Score  Testing Score  Validation score  \\\n",
       "0      Linear Regression            0.95           0.97              0.86   \n",
       "1  Polynomial Regression            0.96           0.97              0.67   \n",
       "\n",
       "   mse training  mse testing  mse validation  mae training  mae testing  \\\n",
       "0          0.06         0.02            0.06          0.18         0.11   \n",
       "1          0.04         0.03            0.14          0.16         0.14   \n",
       "\n",
       "   mae valid  r2 training  r2 testing  r2 valid  \n",
       "0       0.21         0.95        0.97      0.86  \n",
       "1       0.26         0.96        0.97      0.67  "
      ]
     },
     "execution_count": 105,
     "metadata": {},
     "output_type": "execute_result"
    }
   ],
   "source": [
    "models_performance"
   ]
  },
  {
   "cell_type": "markdown",
   "metadata": {
    "id": "cWPAy99wbq-U"
   },
   "source": [
    "Now, we use \"R&D Spend\" and \"Marketing Spend\"."
   ]
  },
  {
   "cell_type": "code",
   "execution_count": 106,
   "metadata": {
    "id": "K5HP9PgwauQ7"
   },
   "outputs": [],
   "source": [
    "X1 = Startup_df2[['R&D Spend','Marketing Spend']]"
   ]
  },
  {
   "cell_type": "code",
   "execution_count": 107,
   "metadata": {
    "id": "-_X_2AyLb-Mn"
   },
   "outputs": [],
   "source": [
    "X_train1, X_temp1, y_train1, y_temp1 = train_test_split(X1, y, test_size=0.25, random_state=42)\n",
    "X_val1, X_test1, y_val1, y_test1 = train_test_split(X_temp1, y_temp1, test_size=0.6, random_state=42)"
   ]
  },
  {
   "cell_type": "code",
   "execution_count": 108,
   "metadata": {
    "colab": {
     "base_uri": "https://localhost:8080/",
     "height": 75
    },
    "id": "Gw8TPv5DcM44",
    "outputId": "2727f693-91d7-4ef1-ecc8-9c5ff97fab85"
   },
   "outputs": [
    {
     "data": {
      "text/plain": [
       "LinearRegression()"
      ]
     },
     "execution_count": 108,
     "metadata": {},
     "output_type": "execute_result"
    }
   ],
   "source": [
    "model11 = LinearRegression()\n",
    "model11.fit(X_train1,y_train1)"
   ]
  },
  {
   "cell_type": "code",
   "execution_count": 109,
   "metadata": {
    "colab": {
     "base_uri": "https://localhost:8080/",
     "height": 677
    },
    "id": "uZa_W0rHcSU4",
    "outputId": "771e53b5-c9da-400f-8390-6efd63d4e40e"
   },
   "outputs": [
    {
     "name": "stdout",
     "output_type": "stream",
     "text": [
      "Model Performance for: Linear Regression\n",
      "\n",
      "Training Score: 0.95\n",
      "Testing Score: 0.97\n",
      "Validation Score 0.81\n",
      "\n",
      "Training Data Mean Squared Error: 0.05\n",
      "Testing Data Mean Squared Error: 0.02\n",
      "Validation Data Mean Squared Error: 0.08\n",
      "\n",
      "Training Data Mean Absolute Error: 0.17\n",
      "Testing Data Mean Absolute Error: 0.12\n",
      "Validation Data Mean Absolute Error: 0.24\n",
      "\n",
      "Training Data r2_score: 0.95\n",
      "Testing Data r2_score: 0.97\n",
      "Validation Data r2_score: 0.81\n",
      "\n",
      "Residual Analysis:\n"
     ]
    },
    {
     "data": {
      "image/png": "[encoded data removed]",
      "text/plain": [
       "<Figure size 1440x360 with 1 Axes>"
      ]
     },
     "metadata": {
      "needs_background": "light"
     },
     "output_type": "display_data"
    }
   ],
   "source": [
    "lr1 = evaluate_regression_model(model11, 'Linear Regression', X_train1, y_train1, X_test1, y_test1, X_val1, y_val1)"
   ]
  },
  {
   "cell_type": "code",
   "execution_count": 110,
   "metadata": {
    "id": "qX_d6N-KceEp"
   },
   "outputs": [],
   "source": [
    "poly = PolynomialFeatures(degree=4)\n",
    "X_train_poly1 = poly.fit_transform(X_train1)\n",
    "X_test_poly1 = poly.fit_transform(X_test1)\n",
    "X_val_poly1 = poly.fit_transform(X_val1)"
   ]
  },
  {
   "cell_type": "code",
   "execution_count": 111,
   "metadata": {
    "colab": {
     "base_uri": "https://localhost:8080/",
     "height": 75
    },
    "id": "X3g1WAh4cvyq",
    "outputId": "d0c934b3-0202-4ae3-ba57-77c244402318"
   },
   "outputs": [
    {
     "data": {
      "text/plain": [
       "LinearRegression()"
      ]
     },
     "execution_count": 111,
     "metadata": {},
     "output_type": "execute_result"
    }
   ],
   "source": [
    "model21 = LinearRegression()\n",
    "model21.fit(X_train_poly1,y_train1)"
   ]
  },
  {
   "cell_type": "code",
   "execution_count": 112,
   "metadata": {
    "colab": {
     "base_uri": "https://localhost:8080/",
     "height": 680
    },
    "id": "qWLiHx-Qc8BP",
    "outputId": "5c8b8eff-a763-400e-fe4f-7b6352c924e8"
   },
   "outputs": [
    {
     "name": "stdout",
     "output_type": "stream",
     "text": [
      "Model Performance for: Polynomial Regression\n",
      "\n",
      "Training Score: 0.98\n",
      "Testing Score: -4.09\n",
      "Validation Score 0.75\n",
      "\n",
      "Training Data Mean Squared Error: 0.02\n",
      "Testing Data Mean Squared Error: 4.23\n",
      "Validation Data Mean Squared Error: 0.1\n",
      "\n",
      "Training Data Mean Absolute Error: 0.12\n",
      "Testing Data Mean Absolute Error: 0.96\n",
      "Validation Data Mean Absolute Error: 0.27\n",
      "\n",
      "Training Data r2_score: 0.98\n",
      "Testing Data r2_score: -4.09\n",
      "Validation Data r2_score: 0.75\n",
      "\n",
      "Residual Analysis:\n"
     ]
    },
    {
     "data": {
      "image/png": "[encoded data removed]",
      "text/plain": [
       "<Figure size 1440x360 with 1 Axes>"
      ]
     },
     "metadata": {
      "needs_background": "light"
     },
     "output_type": "display_data"
    }
   ],
   "source": [
    "pr1 = evaluate_regression_model(model21, \"Polynomial Regression\", X_train_poly1, y_train1, X_test_poly1, y_test1, X_val_poly1, y_val1)"
   ]
  },
  {
   "cell_type": "code",
   "execution_count": 113,
   "metadata": {
    "id": "8nQy_gqwdLTs"
   },
   "outputs": [],
   "source": [
    "models_performance1 = [[\"Linear Regression\",lr1[0],lr1[1],lr1[2],lr1[3],lr1[4],lr1[5],lr1[6],lr1[7],lr1[8],lr1[9],lr1[10],lr1[11]],\n",
    "                     [\"Polynomial Regression\",pr1[0],pr1[1],pr1[2],pr1[3],pr1[4],pr1[5],pr1[6],pr1[7],pr1[8],pr1[9],pr1[10],pr1[11]]]"
   ]
  },
  {
   "cell_type": "code",
   "execution_count": 114,
   "metadata": {
    "id": "1aU7yNqYdSIZ"
   },
   "outputs": [],
   "source": [
    "models_performance1 = pd.DataFrame(models_performance1,columns = [\"Model Name\",\"Training Score\",\"Testing Score\",\"Validation score\",\"mse training\",\"mse testing\",\"mse validation\",\"mae training\",\"mae testing\",\"mae valid\",\"r2 training\",\"r2 testing\",\"r2 valid\"])"
   ]
  },
  {
   "cell_type": "code",
   "execution_count": 115,
   "metadata": {
    "colab": {
     "base_uri": "https://localhost:8080/",
     "height": 191
    },
    "id": "kg1toI_8dZxA",
    "outputId": "579309d5-329d-4133-8001-d2e407aa5e0e"
   },
   "outputs": [
    {
     "data": {
      "text/html": [
       "<div>\n",
       "<style scoped>\n",
       "    .dataframe tbody tr th:only-of-type {\n",
       "        vertical-align: middle;\n",
       "    }\n",
       "\n",
       "    .dataframe tbody tr th {\n",
       "        vertical-align: top;\n",
       "    }\n",
       "\n",
       "    .dataframe thead th {\n",
       "        text-align: right;\n",
       "    }\n",
       "</style>\n",
       "<table border=\"1\" class=\"dataframe\">\n",
       "  <thead>\n",
       "    <tr style=\"text-align: right;\">\n",
       "      <th></th>\n",
       "      <th>Model Name</th>\n",
       "      <th>Training Score</th>\n",
       "      <th>Testing Score</th>\n",
       "      <th>Validation score</th>\n",
       "      <th>mse training</th>\n",
       "      <th>mse testing</th>\n",
       "      <th>mse validation</th>\n",
       "      <th>mae training</th>\n",
       "      <th>mae testing</th>\n",
       "      <th>mae valid</th>\n",
       "      <th>r2 training</th>\n",
       "      <th>r2 testing</th>\n",
       "      <th>r2 valid</th>\n",
       "    </tr>\n",
       "  </thead>\n",
       "  <tbody>\n",
       "    <tr>\n",
       "      <th>0</th>\n",
       "      <td>Linear Regression</td>\n",
       "      <td>0.95</td>\n",
       "      <td>0.97</td>\n",
       "      <td>0.81</td>\n",
       "      <td>0.05</td>\n",
       "      <td>0.02</td>\n",
       "      <td>0.08</td>\n",
       "      <td>0.17</td>\n",
       "      <td>0.12</td>\n",
       "      <td>0.24</td>\n",
       "      <td>0.95</td>\n",
       "      <td>0.97</td>\n",
       "      <td>0.81</td>\n",
       "    </tr>\n",
       "    <tr>\n",
       "      <th>1</th>\n",
       "      <td>Polynomial Regression</td>\n",
       "      <td>0.98</td>\n",
       "      <td>-4.09</td>\n",
       "      <td>0.75</td>\n",
       "      <td>0.02</td>\n",
       "      <td>4.23</td>\n",
       "      <td>0.10</td>\n",
       "      <td>0.12</td>\n",
       "      <td>0.96</td>\n",
       "      <td>0.27</td>\n",
       "      <td>0.98</td>\n",
       "      <td>-4.09</td>\n",
       "      <td>0.75</td>\n",
       "    </tr>\n",
       "  </tbody>\n",
       "</table>\n",
       "</div>"
      ],
      "text/plain": [
       "              Model Name  Training Score  Testing Score  Validation score  \\\n",
       "0      Linear Regression            0.95           0.97              0.81   \n",
       "1  Polynomial Regression            0.98          -4.09              0.75   \n",
       "\n",
       "   mse training  mse testing  mse validation  mae training  mae testing  \\\n",
       "0          0.05         0.02            0.08          0.17         0.12   \n",
       "1          0.02         4.23            0.10          0.12         0.96   \n",
       "\n",
       "   mae valid  r2 training  r2 testing  r2 valid  \n",
       "0       0.24         0.95        0.97      0.81  \n",
       "1       0.27         0.98       -4.09      0.75  "
      ]
     },
     "execution_count": 115,
     "metadata": {},
     "output_type": "execute_result"
    }
   ],
   "source": [
    "# Models performance when use 'R&D Spend' and 'Marketing Spend'\n",
    "models_performance1"
   ]
  },
  {
   "cell_type": "code",
   "execution_count": 116,
   "metadata": {
    "colab": {
     "base_uri": "https://localhost:8080/",
     "height": 191
    },
    "id": "ilmfYhRCdbT1",
    "outputId": "20bedbeb-6b77-41fa-adc5-e95c0bb201d8"
   },
   "outputs": [
    {
     "data": {
      "text/html": [
       "<div>\n",
       "<style scoped>\n",
       "    .dataframe tbody tr th:only-of-type {\n",
       "        vertical-align: middle;\n",
       "    }\n",
       "\n",
       "    .dataframe tbody tr th {\n",
       "        vertical-align: top;\n",
       "    }\n",
       "\n",
       "    .dataframe thead th {\n",
       "        text-align: right;\n",
       "    }\n",
       "</style>\n",
       "<table border=\"1\" class=\"dataframe\">\n",
       "  <thead>\n",
       "    <tr style=\"text-align: right;\">\n",
       "      <th></th>\n",
       "      <th>Model Name</th>\n",
       "      <th>Training Score</th>\n",
       "      <th>Testing Score</th>\n",
       "      <th>Validation score</th>\n",
       "      <th>mse training</th>\n",
       "      <th>mse testing</th>\n",
       "      <th>mse validation</th>\n",
       "      <th>mae training</th>\n",
       "      <th>mae testing</th>\n",
       "      <th>mae valid</th>\n",
       "      <th>r2 training</th>\n",
       "      <th>r2 testing</th>\n",
       "      <th>r2 valid</th>\n",
       "    </tr>\n",
       "  </thead>\n",
       "  <tbody>\n",
       "    <tr>\n",
       "      <th>0</th>\n",
       "      <td>Linear Regression</td>\n",
       "      <td>0.95</td>\n",
       "      <td>0.97</td>\n",
       "      <td>0.86</td>\n",
       "      <td>0.06</td>\n",
       "      <td>0.02</td>\n",
       "      <td>0.06</td>\n",
       "      <td>0.18</td>\n",
       "      <td>0.11</td>\n",
       "      <td>0.21</td>\n",
       "      <td>0.95</td>\n",
       "      <td>0.97</td>\n",
       "      <td>0.86</td>\n",
       "    </tr>\n",
       "    <tr>\n",
       "      <th>1</th>\n",
       "      <td>Polynomial Regression</td>\n",
       "      <td>0.96</td>\n",
       "      <td>0.97</td>\n",
       "      <td>0.67</td>\n",
       "      <td>0.04</td>\n",
       "      <td>0.03</td>\n",
       "      <td>0.14</td>\n",
       "      <td>0.16</td>\n",
       "      <td>0.14</td>\n",
       "      <td>0.26</td>\n",
       "      <td>0.96</td>\n",
       "      <td>0.97</td>\n",
       "      <td>0.67</td>\n",
       "    </tr>\n",
       "  </tbody>\n",
       "</table>\n",
       "</div>"
      ],
      "text/plain": [
       "              Model Name  Training Score  Testing Score  Validation score  \\\n",
       "0      Linear Regression            0.95           0.97              0.86   \n",
       "1  Polynomial Regression            0.96           0.97              0.67   \n",
       "\n",
       "   mse training  mse testing  mse validation  mae training  mae testing  \\\n",
       "0          0.06         0.02            0.06          0.18         0.11   \n",
       "1          0.04         0.03            0.14          0.16         0.14   \n",
       "\n",
       "   mae valid  r2 training  r2 testing  r2 valid  \n",
       "0       0.21         0.95        0.97      0.86  \n",
       "1       0.26         0.96        0.97      0.67  "
      ]
     },
     "execution_count": 116,
     "metadata": {},
     "output_type": "execute_result"
    }
   ],
   "source": [
    "# Models performance when use 'R&D Spend' only\n",
    "models_performance"
   ]
  },
  {
   "cell_type": "markdown",
   "metadata": {
    "id": "QwRIWLoLdt0B"
   },
   "source": [
    "**Clearly, we can see that models best perform when use only \"R&D Spend\".**"
   ]
  },
  {
   "cell_type": "code",
   "execution_count": null,
   "metadata": {
    "id": "YcySsfX3Ku30"
   },
   "outputs": [],
   "source": []
  }
 ],
 "metadata": {
  "colab": {
   "provenance": []
  },
  "kernelspec": {
   "display_name": "Python 3 (ipykernel)",
   "language": "python",
   "name": "python3"
  },
  "language_info": {
   "codemirror_mode": {
    "name": "ipython",
    "version": 3
   },
   "file_extension": ".py",
   "mimetype": "text/x-python",
   "name": "python",
   "nbconvert_exporter": "python",
   "pygments_lexer": "ipython3",
   "version": "3.9.12"
  }
 },
 "nbformat": 4,
 "nbformat_minor": 1
}
